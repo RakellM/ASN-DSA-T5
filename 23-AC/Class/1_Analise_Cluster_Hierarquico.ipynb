{
 "cells": [
  {
   "cell_type": "markdown",
   "id": "3bf040a4",
   "metadata": {},
   "source": [
    "# Análise de Cluster Hierárquico\n",
    "\n",
    "   Legendas:\n",
    "   * <code style=\"color:green\">Teoria</code>\n",
    "   * <code style=\"color:purple\">Dicas</code>\n",
    "   * <code style=\"color:red\">Prática (exemplo ou exercício)</code>"
   ]
  },
  {
   "cell_type": "markdown",
   "id": "f47cfd82",
   "metadata": {},
   "source": [
    "### <code style=\"color:green\">Cluster Hierárquico </code>\n",
    "    \n",
    "    Existem alguns métodos para definir a distância:\n",
    "   * Vizinho mais próximo\n",
    "   * Vizinho mais longe\n",
    "   * Média\n",
    "   * Centróide\n",
    "   * Ward\n",
    "    \n",
    "    Podemos visualizá-los através do dendograma"
   ]
  },
  {
   "cell_type": "markdown",
   "id": "030de778",
   "metadata": {},
   "source": [
    "Carregando o que será necessário:"
   ]
  },
  {
   "cell_type": "code",
   "execution_count": null,
   "id": "4fa5cd90",
   "metadata": {},
   "outputs": [],
   "source": [
    "#caso precise fazer instalação, usar\n",
    "#!pip install tanglegram"
   ]
  },
  {
   "cell_type": "code",
   "execution_count": 1,
   "id": "bf7149a8",
   "metadata": {},
   "outputs": [
    {
     "name": "stderr",
     "output_type": "stream",
     "text": [
      "C:\\Users\\adria\\anaconda3\\lib\\site-packages\\pandas\\core\\computation\\expressions.py:21: UserWarning: Pandas requires version '2.8.4' or newer of 'numexpr' (version '2.8.3' currently installed).\n",
      "  from pandas.core.computation.check import NUMEXPR_INSTALLED\n",
      "C:\\Users\\adria\\anaconda3\\lib\\site-packages\\pandas\\core\\arrays\\masked.py:60: UserWarning: Pandas requires version '1.3.6' or newer of 'bottleneck' (version '1.3.5' currently installed).\n",
      "  from pandas.core import (\n"
     ]
    }
   ],
   "source": [
    "import pandas as pd\n",
    "import numpy as np\n",
    "from scipy.cluster.hierarchy import dendrogram, linkage, fcluster\n",
    "from scipy.spatial.distance import pdist, squareform\n",
    "import matplotlib.pyplot as plt\n",
    "from sklearn.preprocessing import StandardScaler\n",
    "from sklearn.metrics import silhouette_score\n",
    "from sklearn.cluster import AgglomerativeClustering\n",
    "import tanglegram"
   ]
  },
  {
   "cell_type": "markdown",
   "id": "57faef9f",
   "metadata": {},
   "source": [
    "Importando e trabalhando no conjunto de dados:"
   ]
  },
  {
   "cell_type": "code",
   "execution_count": 2,
   "id": "9e7edeee",
   "metadata": {},
   "outputs": [
    {
     "data": {
      "text/html": [
       "<div>\n",
       "<style scoped>\n",
       "    .dataframe tbody tr th:only-of-type {\n",
       "        vertical-align: middle;\n",
       "    }\n",
       "\n",
       "    .dataframe tbody tr th {\n",
       "        vertical-align: top;\n",
       "    }\n",
       "\n",
       "    .dataframe thead th {\n",
       "        text-align: right;\n",
       "    }\n",
       "</style>\n",
       "<table border=\"1\" class=\"dataframe\">\n",
       "  <thead>\n",
       "    <tr style=\"text-align: right;\">\n",
       "      <th></th>\n",
       "      <th>Matematica</th>\n",
       "      <th>Portugues</th>\n",
       "    </tr>\n",
       "    <tr>\n",
       "      <th>Aluno</th>\n",
       "      <th></th>\n",
       "      <th></th>\n",
       "    </tr>\n",
       "  </thead>\n",
       "  <tbody>\n",
       "    <tr>\n",
       "      <th>Dri</th>\n",
       "      <td>9</td>\n",
       "      <td>7</td>\n",
       "    </tr>\n",
       "    <tr>\n",
       "      <th>Li</th>\n",
       "      <td>5</td>\n",
       "      <td>4</td>\n",
       "    </tr>\n",
       "    <tr>\n",
       "      <th>Bru</th>\n",
       "      <td>6</td>\n",
       "      <td>6</td>\n",
       "    </tr>\n",
       "    <tr>\n",
       "      <th>Mi</th>\n",
       "      <td>10</td>\n",
       "      <td>8</td>\n",
       "    </tr>\n",
       "    <tr>\n",
       "      <th>Re</th>\n",
       "      <td>4</td>\n",
       "      <td>4</td>\n",
       "    </tr>\n",
       "    <tr>\n",
       "      <th>Ze</th>\n",
       "      <td>4</td>\n",
       "      <td>9</td>\n",
       "    </tr>\n",
       "  </tbody>\n",
       "</table>\n",
       "</div>"
      ],
      "text/plain": [
       "       Matematica  Portugues\n",
       "Aluno                       \n",
       "Dri             9          7\n",
       "Li              5          4\n",
       "Bru             6          6\n",
       "Mi             10          8\n",
       "Re              4          4\n",
       "Ze              4          9"
      ]
     },
     "execution_count": 2,
     "metadata": {},
     "output_type": "execute_result"
    }
   ],
   "source": [
    "# importando o arquivo\n",
    "alunos_pap = pd.read_csv(\"dados/alunos_pap.csv\", sep=\";\", decimal=\",\")\n",
    "#colocando o nome do aluno como índice\n",
    "alunos_pap.set_index(alunos_pap.columns[0], inplace=True)\n",
    "#poderia fazer assim tambem\n",
    "#alunos_pap.index = alunos_pap[\"Aluno\"]\n",
    "#alunos_pap = alunos_pap.drop([\"Aluno\"],axis = 1)\n",
    "alunos_pap"
   ]
  },
  {
   "cell_type": "markdown",
   "id": "b42a0df3",
   "metadata": {},
   "source": [
    "Matriz de distâncias:"
   ]
  },
  {
   "cell_type": "code",
   "execution_count": 3,
   "id": "edeca722",
   "metadata": {},
   "outputs": [
    {
     "data": {
      "text/plain": [
       "array([5.        , 3.16227766, 1.41421356, 5.83095189, 5.38516481,\n",
       "       2.23606798, 6.40312424, 1.        , 5.09901951, 4.47213595,\n",
       "       2.82842712, 3.60555128, 7.21110255, 6.08276253, 5.        ])"
      ]
     },
     "execution_count": 3,
     "metadata": {},
     "output_type": "execute_result"
    }
   ],
   "source": [
    "#calculando matrix de distancias distancia\n",
    "d = pdist(alunos_pap, metric='euclidean')\n",
    "d"
   ]
  },
  {
   "cell_type": "code",
   "execution_count": 4,
   "id": "9f572c8d",
   "metadata": {},
   "outputs": [
    {
     "data": {
      "text/html": [
       "<div>\n",
       "<style scoped>\n",
       "    .dataframe tbody tr th:only-of-type {\n",
       "        vertical-align: middle;\n",
       "    }\n",
       "\n",
       "    .dataframe tbody tr th {\n",
       "        vertical-align: top;\n",
       "    }\n",
       "\n",
       "    .dataframe thead th {\n",
       "        text-align: right;\n",
       "    }\n",
       "</style>\n",
       "<table border=\"1\" class=\"dataframe\">\n",
       "  <thead>\n",
       "    <tr style=\"text-align: right;\">\n",
       "      <th>Aluno</th>\n",
       "      <th>Dri</th>\n",
       "      <th>Li</th>\n",
       "      <th>Bru</th>\n",
       "      <th>Mi</th>\n",
       "      <th>Re</th>\n",
       "      <th>Ze</th>\n",
       "    </tr>\n",
       "    <tr>\n",
       "      <th>Aluno</th>\n",
       "      <th></th>\n",
       "      <th></th>\n",
       "      <th></th>\n",
       "      <th></th>\n",
       "      <th></th>\n",
       "      <th></th>\n",
       "    </tr>\n",
       "  </thead>\n",
       "  <tbody>\n",
       "    <tr>\n",
       "      <th>Dri</th>\n",
       "      <td>0.000000</td>\n",
       "      <td>5.000000</td>\n",
       "      <td>3.162278</td>\n",
       "      <td>1.414214</td>\n",
       "      <td>5.830952</td>\n",
       "      <td>5.385165</td>\n",
       "    </tr>\n",
       "    <tr>\n",
       "      <th>Li</th>\n",
       "      <td>5.000000</td>\n",
       "      <td>0.000000</td>\n",
       "      <td>2.236068</td>\n",
       "      <td>6.403124</td>\n",
       "      <td>1.000000</td>\n",
       "      <td>5.099020</td>\n",
       "    </tr>\n",
       "    <tr>\n",
       "      <th>Bru</th>\n",
       "      <td>3.162278</td>\n",
       "      <td>2.236068</td>\n",
       "      <td>0.000000</td>\n",
       "      <td>4.472136</td>\n",
       "      <td>2.828427</td>\n",
       "      <td>3.605551</td>\n",
       "    </tr>\n",
       "    <tr>\n",
       "      <th>Mi</th>\n",
       "      <td>1.414214</td>\n",
       "      <td>6.403124</td>\n",
       "      <td>4.472136</td>\n",
       "      <td>0.000000</td>\n",
       "      <td>7.211103</td>\n",
       "      <td>6.082763</td>\n",
       "    </tr>\n",
       "    <tr>\n",
       "      <th>Re</th>\n",
       "      <td>5.830952</td>\n",
       "      <td>1.000000</td>\n",
       "      <td>2.828427</td>\n",
       "      <td>7.211103</td>\n",
       "      <td>0.000000</td>\n",
       "      <td>5.000000</td>\n",
       "    </tr>\n",
       "    <tr>\n",
       "      <th>Ze</th>\n",
       "      <td>5.385165</td>\n",
       "      <td>5.099020</td>\n",
       "      <td>3.605551</td>\n",
       "      <td>6.082763</td>\n",
       "      <td>5.000000</td>\n",
       "      <td>0.000000</td>\n",
       "    </tr>\n",
       "  </tbody>\n",
       "</table>\n",
       "</div>"
      ],
      "text/plain": [
       "Aluno       Dri        Li       Bru        Mi        Re        Ze\n",
       "Aluno                                                            \n",
       "Dri    0.000000  5.000000  3.162278  1.414214  5.830952  5.385165\n",
       "Li     5.000000  0.000000  2.236068  6.403124  1.000000  5.099020\n",
       "Bru    3.162278  2.236068  0.000000  4.472136  2.828427  3.605551\n",
       "Mi     1.414214  6.403124  4.472136  0.000000  7.211103  6.082763\n",
       "Re     5.830952  1.000000  2.828427  7.211103  0.000000  5.000000\n",
       "Ze     5.385165  5.099020  3.605551  6.082763  5.000000  0.000000"
      ]
     },
     "execution_count": 4,
     "metadata": {},
     "output_type": "execute_result"
    }
   ],
   "source": [
    "#caso queira ver a matriz mais bonitinha\n",
    "matriz = squareform(d)\n",
    "pd.DataFrame(matriz, index=alunos_pap.index, columns= alunos_pap.index)"
   ]
  },
  {
   "cell_type": "markdown",
   "id": "d464d331",
   "metadata": {},
   "source": [
    "Criando cluster pelo método hierárquico em suas diferentes formas:"
   ]
  },
  {
   "cell_type": "code",
   "execution_count": 5,
   "id": "c4dd941c",
   "metadata": {},
   "outputs": [],
   "source": [
    "#criando clusters a partir do metodo escolhido\n",
    "ch_single = linkage(d, method='single')\n",
    "ch_complete = linkage(d, method='complete')\n",
    "ch_average = linkage(d, method='average')\n",
    "ch_centroid = linkage(d, method='centroid')\n",
    "ch_ward = linkage(d, method='ward')"
   ]
  },
  {
   "cell_type": "markdown",
   "id": "02b240fe",
   "metadata": {},
   "source": [
    "Vizualizando o dendograma para cada um dos métodos de calculo de distâncias:"
   ]
  },
  {
   "cell_type": "code",
   "execution_count": 6,
   "id": "a897d38a",
   "metadata": {},
   "outputs": [
    {
     "data": {
      "image/png": "[encoded data removed]",
      "text/plain": [
       "<Figure size 500x300 with 1 Axes>"
      ]
     },
     "metadata": {},
     "output_type": "display_data"
    }
   ],
   "source": [
    "# desenhando dendograma pelo método vizinho mais próximo\n",
    "plt.figure(figsize=(5, 3))\n",
    "plt.title(\"Dendrograma pelo método vizinho mais próximo\")\n",
    "dendrogram(ch_single, labels=alunos_pap.index)\n",
    "plt.show()"
   ]
  },
  {
   "cell_type": "code",
   "execution_count": 7,
   "id": "eecbd402",
   "metadata": {},
   "outputs": [
    {
     "data": {
      "image/png": "[encoded data removed]",
      "text/plain": [
       "<Figure size 500x300 with 1 Axes>"
      ]
     },
     "metadata": {},
     "output_type": "display_data"
    }
   ],
   "source": [
    "# desenhando dendograma pelo método vizinho mais longe\n",
    "plt.figure(figsize=(5, 3))\n",
    "plt.title(\"Dendrograma pelo método vizinho mais longe\")\n",
    "dendrogram(ch_complete, labels=alunos_pap.index)\n",
    "plt.show()"
   ]
  },
  {
   "cell_type": "code",
   "execution_count": 8,
   "id": "f6dcb9a8",
   "metadata": {},
   "outputs": [
    {
     "data": {
      "image/png": "[encoded data removed]",
      "text/plain": [
       "<Figure size 500x300 with 1 Axes>"
      ]
     },
     "metadata": {},
     "output_type": "display_data"
    }
   ],
   "source": [
    "# desenhando dendograma pelo método da média\n",
    "plt.figure(figsize=(5, 3))\n",
    "plt.title(\"Dendrograma pelo método da média\")\n",
    "dendrogram(ch_average, labels=alunos_pap.index)\n",
    "plt.show()"
   ]
  },
  {
   "cell_type": "code",
   "execution_count": 9,
   "id": "1fa5ff81",
   "metadata": {},
   "outputs": [
    {
     "data": {
      "image/png": "[encoded data removed]",
      "text/plain": [
       "<Figure size 500x300 with 1 Axes>"
      ]
     },
     "metadata": {},
     "output_type": "display_data"
    }
   ],
   "source": [
    "# desenhando dendograma pelo método do centróide\n",
    "plt.figure(figsize=(5, 3))\n",
    "plt.title(\"Dendrograma pelo método do centróide\")\n",
    "dendrogram(ch_centroid, labels=alunos_pap.index)\n",
    "plt.show()"
   ]
  },
  {
   "cell_type": "code",
   "execution_count": 10,
   "id": "2390995d",
   "metadata": {},
   "outputs": [
    {
     "data": {
      "image/png": "[encoded data removed]",
      "text/plain": [
       "<Figure size 500x300 with 1 Axes>"
      ]
     },
     "metadata": {},
     "output_type": "display_data"
    }
   ],
   "source": [
    "# desenhando dendograma pelo método Ward\n",
    "plt.figure(figsize=(5, 3))\n",
    "plt.title(\"Dendrograma pelo método Ward\")\n",
    "dendrogram(ch_ward, labels=alunos_pap.index)\n",
    "plt.show()"
   ]
  },
  {
   "cell_type": "code",
   "execution_count": 11,
   "id": "9d962cdb",
   "metadata": {},
   "outputs": [
    {
     "data": {
      "image/png": "[encoded data removed]",
      "text/plain": [
       "<Figure size 500x300 with 1 Axes>"
      ]
     },
     "metadata": {},
     "output_type": "display_data"
    }
   ],
   "source": [
    "#fazendo cortes no dendograma\n",
    "plt.figure(figsize=(5, 3))\n",
    "plt.title(\"Dendrograma pelo método Ward\")\n",
    "dendrogram(ch_ward, labels=alunos_pap.index)\n",
    "plt.axhline(y=6.5,color = \"red\") #você precisa marcar a disância que deseja cortar\n",
    "plt.show()"
   ]
  },
  {
   "cell_type": "markdown",
   "id": "a08c79bf",
   "metadata": {},
   "source": [
    "### <code style=\"color:green\">Curiosidades </code>\n",
    "    \n",
    "    Comparando Dendogramas:\n",
    "    \n",
    "    Importante documentar que o pacote tanglegram atualmente não oferece uma maneira direta de adicionar labels customizadas como os dendrogramas padrão fazem. No entanto, uma abordagem alternativa seria plotar os dendrogramas separadamente (as duas opções estão abaixo)."
   ]
  },
  {
   "cell_type": "code",
   "execution_count": 12,
   "id": "564e11d8",
   "metadata": {},
   "outputs": [
    {
     "name": "stderr",
     "output_type": "stream",
     "text": [
      "INFO  : Done. Use matplotlib.pyplot.show() to show plot. (tanglegram.tangle)\n"
     ]
    },
    {
     "data": {
      "image/png": "[encoded data removed]",
      "text/plain": [
       "<Figure size 800x800 with 3 Axes>"
      ]
     },
     "metadata": {},
     "output_type": "display_data"
    }
   ],
   "source": [
    "#Comparando o método da média e ward\n",
    "#Usando a opção pronta, sem label pelo tangleram\n",
    "tanglegram.plot(ch_average, ch_ward, sort=False) \n",
    "plt.show()"
   ]
  },
  {
   "cell_type": "code",
   "execution_count": 14,
   "id": "57336a82",
   "metadata": {},
   "outputs": [
    {
     "data": {
      "text/html": [
       "<div>\n",
       "<style scoped>\n",
       "    .dataframe tbody tr th:only-of-type {\n",
       "        vertical-align: middle;\n",
       "    }\n",
       "\n",
       "    .dataframe tbody tr th {\n",
       "        vertical-align: top;\n",
       "    }\n",
       "\n",
       "    .dataframe thead th {\n",
       "        text-align: right;\n",
       "    }\n",
       "</style>\n",
       "<table border=\"1\" class=\"dataframe\">\n",
       "  <thead>\n",
       "    <tr style=\"text-align: right;\">\n",
       "      <th></th>\n",
       "      <th>Index</th>\n",
       "      <th>Aluno</th>\n",
       "    </tr>\n",
       "  </thead>\n",
       "  <tbody>\n",
       "    <tr>\n",
       "      <th>0</th>\n",
       "      <td>0</td>\n",
       "      <td>Dri</td>\n",
       "    </tr>\n",
       "    <tr>\n",
       "      <th>1</th>\n",
       "      <td>1</td>\n",
       "      <td>Li</td>\n",
       "    </tr>\n",
       "    <tr>\n",
       "      <th>2</th>\n",
       "      <td>2</td>\n",
       "      <td>Bru</td>\n",
       "    </tr>\n",
       "    <tr>\n",
       "      <th>3</th>\n",
       "      <td>3</td>\n",
       "      <td>Mi</td>\n",
       "    </tr>\n",
       "    <tr>\n",
       "      <th>4</th>\n",
       "      <td>4</td>\n",
       "      <td>Re</td>\n",
       "    </tr>\n",
       "    <tr>\n",
       "      <th>5</th>\n",
       "      <td>5</td>\n",
       "      <td>Ze</td>\n",
       "    </tr>\n",
       "  </tbody>\n",
       "</table>\n",
       "</div>"
      ],
      "text/plain": [
       "   Index Aluno\n",
       "0      0   Dri\n",
       "1      1    Li\n",
       "2      2   Bru\n",
       "3      3    Mi\n",
       "4      4    Re\n",
       "5      5    Ze"
      ]
     },
     "execution_count": 14,
     "metadata": {},
     "output_type": "execute_result"
    }
   ],
   "source": [
    "#Para saber que numero corresponde a que nome\n",
    "#Primeiro vamos converter o índice para uma lista\n",
    "alunos_pap_list = alunos_pap.index.tolist()  \n",
    "#Criar um DataFrame para mostrar o índice correspondente a cada nome\n",
    "df_mapping = pd.DataFrame({'Index': range(len(alunos_pap_list)), 'Aluno': alunos_pap_list})\n",
    "df_mapping\n",
    "#Com isso você sabe quem é quem no emaranhado acima. Infelizmente o tangleram não aceita labels"
   ]
  },
  {
   "cell_type": "code",
   "execution_count": 15,
   "id": "2bdd054a",
   "metadata": {},
   "outputs": [
    {
     "data": {
      "image/png": "[encoded data removed]",
      "text/plain": [
       "<Figure size 1000x500 with 2 Axes>"
      ]
     },
     "metadata": {},
     "output_type": "display_data"
    }
   ],
   "source": [
    "#Uma alternativa é colocar um dendograma ao lado do outro, no entanto perdemos a opção\n",
    "#do tangleram que compara se mudaram ou não\n",
    "fig, axes = plt.subplots(1, 2, figsize=(10, 5))\n",
    "dendrogram(ch_average, labels=alunos_pap.index, ax=axes[0], orientation='left')\n",
    "dendrogram(ch_ward, labels=alunos_pap.index, ax=axes[1], orientation='right')\n",
    "\n",
    "plt.show()"
   ]
  },
  {
   "cell_type": "code",
   "execution_count": 16,
   "id": "66bad160",
   "metadata": {},
   "outputs": [
    {
     "name": "stderr",
     "output_type": "stream",
     "text": [
      "INFO  : Done. Use matplotlib.pyplot.show() to show plot. (tanglegram.tangle)\n"
     ]
    },
    {
     "data": {
      "image/png": "[encoded data removed]",
      "text/plain": [
       "<Figure size 800x800 with 3 Axes>"
      ]
     },
     "metadata": {},
     "output_type": "display_data"
    }
   ],
   "source": [
    "#Comparando o método do vizinho mais próximo e mais longe\n",
    "#Usando a opção pronta, sem label pelo tangleram\n",
    "tanglegram.plot(ch_single, ch_complete, sort=False)\n",
    "plt.show()"
   ]
  },
  {
   "cell_type": "code",
   "execution_count": 19,
   "id": "becd84db",
   "metadata": {},
   "outputs": [
    {
     "data": {
      "image/png": "[encoded data removed]",
      "text/plain": [
       "<Figure size 1000x500 with 2 Axes>"
      ]
     },
     "metadata": {},
     "output_type": "display_data"
    }
   ],
   "source": [
    "#Uma alternativa é colocar um dendograma ao lado do outro, no entanto perdemos a opção\n",
    "#do tangleram que compara se mudaram ou não\n",
    "fig, axes = plt.subplots(1, 2, figsize=(10, 5))\n",
    "dendrogram(ch_single, labels=alunos_pap.index, ax=axes[0], orientation='left')\n",
    "dendrogram(ch_complete, labels=alunos_pap.index, ax=axes[1], orientation='right')\n",
    "\n",
    "plt.show()"
   ]
  },
  {
   "cell_type": "markdown",
   "id": "96e91bf2",
   "metadata": {},
   "source": [
    "### <code style=\"color:green\">Marcando quem pertence a cada grupo </code>\n",
    "    \n",
    "    Criando 2 grupos:\n",
    "    \n",
    "    Para isso utilizamos a função fcluster com o criterio maxclust, pois ela significa que deve-se criar um agrupamento com t grupos."
   ]
  },
  {
   "cell_type": "code",
   "execution_count": 20,
   "id": "82603b1c",
   "metadata": {},
   "outputs": [
    {
     "data": {
      "text/html": [
       "<div>\n",
       "<style scoped>\n",
       "    .dataframe tbody tr th:only-of-type {\n",
       "        vertical-align: middle;\n",
       "    }\n",
       "\n",
       "    .dataframe tbody tr th {\n",
       "        vertical-align: top;\n",
       "    }\n",
       "\n",
       "    .dataframe thead th {\n",
       "        text-align: right;\n",
       "    }\n",
       "</style>\n",
       "<table border=\"1\" class=\"dataframe\">\n",
       "  <thead>\n",
       "    <tr style=\"text-align: right;\">\n",
       "      <th></th>\n",
       "      <th>Matematica</th>\n",
       "      <th>Portugues</th>\n",
       "      <th>grupo_alunos2</th>\n",
       "    </tr>\n",
       "    <tr>\n",
       "      <th>Aluno</th>\n",
       "      <th></th>\n",
       "      <th></th>\n",
       "      <th></th>\n",
       "    </tr>\n",
       "  </thead>\n",
       "  <tbody>\n",
       "    <tr>\n",
       "      <th>Dri</th>\n",
       "      <td>9</td>\n",
       "      <td>7</td>\n",
       "      <td>1</td>\n",
       "    </tr>\n",
       "    <tr>\n",
       "      <th>Li</th>\n",
       "      <td>5</td>\n",
       "      <td>4</td>\n",
       "      <td>2</td>\n",
       "    </tr>\n",
       "    <tr>\n",
       "      <th>Bru</th>\n",
       "      <td>6</td>\n",
       "      <td>6</td>\n",
       "      <td>2</td>\n",
       "    </tr>\n",
       "    <tr>\n",
       "      <th>Mi</th>\n",
       "      <td>10</td>\n",
       "      <td>8</td>\n",
       "      <td>1</td>\n",
       "    </tr>\n",
       "    <tr>\n",
       "      <th>Re</th>\n",
       "      <td>4</td>\n",
       "      <td>4</td>\n",
       "      <td>2</td>\n",
       "    </tr>\n",
       "    <tr>\n",
       "      <th>Ze</th>\n",
       "      <td>4</td>\n",
       "      <td>9</td>\n",
       "      <td>2</td>\n",
       "    </tr>\n",
       "  </tbody>\n",
       "</table>\n",
       "</div>"
      ],
      "text/plain": [
       "       Matematica  Portugues  grupo_alunos2\n",
       "Aluno                                      \n",
       "Dri             9          7              1\n",
       "Li              5          4              2\n",
       "Bru             6          6              2\n",
       "Mi             10          8              1\n",
       "Re              4          4              2\n",
       "Ze              4          9              2"
      ]
     },
     "execution_count": 20,
     "metadata": {},
     "output_type": "execute_result"
    }
   ],
   "source": [
    "# criando dois grupo de alunos\n",
    "grupos_alunos2 = fcluster(ch_ward, t=2, criterion='maxclust')\n",
    "# juntando a informação do cluster na base original\n",
    "alunos_pap['grupo_alunos2'] = grupos_alunos2\n",
    "alunos_pap"
   ]
  },
  {
   "cell_type": "markdown",
   "id": "44994163",
   "metadata": {},
   "source": [
    "Descrevendo os grupos:"
   ]
  },
  {
   "cell_type": "code",
   "execution_count": 21,
   "id": "6abe079a",
   "metadata": {},
   "outputs": [
    {
     "name": "stdout",
     "output_type": "stream",
     "text": [
      "               n  Portugues  Matematica\n",
      "grupo_alunos2                          \n",
      "1              2       7.50        9.50\n",
      "2              4       5.75        4.75\n"
     ]
    }
   ],
   "source": [
    "# Descrevendo os clusteres (análise descritiva)\n",
    "mediagrupo_alunos = alunos_pap.groupby('grupo_alunos2').agg(\n",
    "    n=('Portugues', 'size'),\n",
    "    Portugues=('Portugues', 'mean'),\n",
    "    Matematica=('Matematica', 'mean')\n",
    ")\n",
    "\n",
    "print(mediagrupo_alunos)"
   ]
  },
  {
   "cell_type": "code",
   "execution_count": null,
   "id": "5e62f1c4",
   "metadata": {},
   "outputs": [],
   "source": []
  }
 ],
 "metadata": {
  "kernelspec": {
   "display_name": "Python 3 (ipykernel)",
   "language": "python",
   "name": "python3"
  },
  "language_info": {
   "codemirror_mode": {
    "name": "ipython",
    "version": 3
   },
   "file_extension": ".py",
   "mimetype": "text/x-python",
   "name": "python",
   "nbconvert_exporter": "python",
   "pygments_lexer": "ipython3",
   "version": "3.9.13"
  }
 },
 "nbformat": 4,
 "nbformat_minor": 5
}
