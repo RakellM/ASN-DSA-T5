{
 "cells": [
  {
   "cell_type": "markdown",
   "id": "feebd350-cd6d-4b88-b699-ab3194054aff",
   "metadata": {},
   "source": [
    "# Regressão Linear - Box-Cox + Transformação de Variáveis\n",
    " Legendas:\n",
    "   * <code style=\"color:green\">Explicação Conteúdo</code>\n",
    "   * <code style=\"color:purple\">Dicas / Comandos / Comentários</code>\n",
    "   * <code style=\"color:red\">Prática</code>\n",
    "\n"
   ]
  },
  {
   "cell_type": "code",
   "execution_count": 1,
   "id": "fad8856c-6953-4e03-a014-d37419fa0ecb",
   "metadata": {},
   "outputs": [
    {
     "name": "stderr",
     "output_type": "stream",
     "text": [
      "C:\\Users\\mattr\\AppData\\Local\\Packages\\PythonSoftwareFoundation.Python.3.10_qbz5n2kfra8p0\\LocalCache\\local-packages\\Python310\\site-packages\\scipy\\__init__.py:169: UserWarning: A NumPy version >=1.18.5 and <1.26.0 is required for this version of SciPy (detected version 1.26.4\n",
      "  warnings.warn(f\"A NumPy version >={np_minversion} and <{np_maxversion}\"\n"
     ]
    }
   ],
   "source": [
    "import pandas as pd # importando a biblioteca de manipulação de dados\n",
    "import statsmodels.api as sm # biblioteca para a regressão logística\n",
    "import numpy as np # biblioteca para calculo\n",
    "from matplotlib import pyplot as plt # importando a biblioteca de visualização de dados \n",
    "import seaborn as sns# importando a biblioteca de visualização de dados \n",
    "from sklearn.metrics import mean_squared_error\n",
    "import scipy.stats as stats # biblioteca para análise estatistica\n",
    "from statsmodels.stats.diagnostic import het_breuschpagan # função para o teste de breusch-pagan\n",
    "import pyreadr # biblioteca para leitura de dados R\n",
    "import numpy as np # biblioteca para calculo numérico\n",
    "from statsmodels.graphics.factorplots import interaction_plot # gráfico de interação\n",
    "from sklearn.preprocessing import PowerTransformer # função para a transformação boxcox"
   ]
  },
  {
   "cell_type": "markdown",
   "id": "7aabcd9c",
   "metadata": {},
   "source": [
    "### <code style=\"color:green\">DISCUSSÃO:</code>\n",
    "\n",
    "No python, utilizando as bibliotecas mais conhecidas, não encontramos os métodos de seleção backward, forward e setpwise. Logo, a solução para quando se quer utilizá-los é criar alguma função que o faça. \n",
    "\n",
    "Sendo assim, criamos algumas funções que serão utilizadas em aula para seleção de variáveis. Elas serão carregadas todas de uma única vez:"
   ]
  },
  {
   "cell_type": "code",
   "execution_count": 2,
   "id": "ac017eba",
   "metadata": {},
   "outputs": [],
   "source": [
    "from selecao_variaveis_regressao_linear import step"
   ]
  },
  {
   "cell_type": "markdown",
   "id": "def37f13-2bbe-4f7b-accd-4da847b18719",
   "metadata": {},
   "source": [
    "### <code style=\"color:green\">Vamos começar:</code>\n",
    "\n",
    "- O propósito aqui é utilizar a base preços, selecionar apenas as variáveis numéricas e tentar aplicar a transformação BoxCox a fim de verificar se o modelo melhora (não quer dizer que vai melhorar).\n",
    "- Além disso testaremos o BoxCox com as variáveis X transformadas."
   ]
  },
  {
   "cell_type": "code",
   "execution_count": 3,
   "id": "d8c21b7e-d1e6-4039-bc78-fd6df72900d8",
   "metadata": {},
   "outputs": [
    {
     "data": {
      "text/html": [
       "<div>\n",
       "<style scoped>\n",
       "    .dataframe tbody tr th:only-of-type {\n",
       "        vertical-align: middle;\n",
       "    }\n",
       "\n",
       "    .dataframe tbody tr th {\n",
       "        vertical-align: top;\n",
       "    }\n",
       "\n",
       "    .dataframe thead th {\n",
       "        text-align: right;\n",
       "    }\n",
       "</style>\n",
       "<table border=\"1\" class=\"dataframe\">\n",
       "  <thead>\n",
       "    <tr style=\"text-align: right;\">\n",
       "      <th></th>\n",
       "      <th>SalePrice</th>\n",
       "      <th>Basement_Area</th>\n",
       "      <th>Lot_Area</th>\n",
       "      <th>Heating_QC</th>\n",
       "      <th>Season_Sold</th>\n",
       "      <th>Gr_Liv_Area</th>\n",
       "      <th>Garage_Area</th>\n",
       "      <th>Deck_Porch_Area</th>\n",
       "      <th>Age_Sold</th>\n",
       "      <th>Bedroom_AbvGr</th>\n",
       "      <th>Total_Bathroom</th>\n",
       "    </tr>\n",
       "  </thead>\n",
       "  <tbody>\n",
       "    <tr>\n",
       "      <th>0</th>\n",
       "      <td>215000.0</td>\n",
       "      <td>1080.0</td>\n",
       "      <td>31770.0</td>\n",
       "      <td>Fa</td>\n",
       "      <td>2.0</td>\n",
       "      <td>1656.0</td>\n",
       "      <td>528.0</td>\n",
       "      <td>272.0</td>\n",
       "      <td>50.0</td>\n",
       "      <td>3.0</td>\n",
       "      <td>2.0</td>\n",
       "    </tr>\n",
       "    <tr>\n",
       "      <th>1</th>\n",
       "      <td>105000.0</td>\n",
       "      <td>882.0</td>\n",
       "      <td>11622.0</td>\n",
       "      <td>TA</td>\n",
       "      <td>3.0</td>\n",
       "      <td>896.0</td>\n",
       "      <td>730.0</td>\n",
       "      <td>260.0</td>\n",
       "      <td>49.0</td>\n",
       "      <td>2.0</td>\n",
       "      <td>1.0</td>\n",
       "    </tr>\n",
       "    <tr>\n",
       "      <th>2</th>\n",
       "      <td>172000.0</td>\n",
       "      <td>1329.0</td>\n",
       "      <td>14267.0</td>\n",
       "      <td>TA</td>\n",
       "      <td>3.0</td>\n",
       "      <td>1329.0</td>\n",
       "      <td>312.0</td>\n",
       "      <td>429.0</td>\n",
       "      <td>52.0</td>\n",
       "      <td>3.0</td>\n",
       "      <td>1.1</td>\n",
       "    </tr>\n",
       "    <tr>\n",
       "      <th>3</th>\n",
       "      <td>244000.0</td>\n",
       "      <td>2110.0</td>\n",
       "      <td>11160.0</td>\n",
       "      <td>Ex</td>\n",
       "      <td>2.0</td>\n",
       "      <td>2110.0</td>\n",
       "      <td>522.0</td>\n",
       "      <td>0.0</td>\n",
       "      <td>42.0</td>\n",
       "      <td>3.0</td>\n",
       "      <td>3.1</td>\n",
       "    </tr>\n",
       "    <tr>\n",
       "      <th>4</th>\n",
       "      <td>189900.0</td>\n",
       "      <td>928.0</td>\n",
       "      <td>13830.0</td>\n",
       "      <td>Gd</td>\n",
       "      <td>2.0</td>\n",
       "      <td>1629.0</td>\n",
       "      <td>482.0</td>\n",
       "      <td>246.0</td>\n",
       "      <td>13.0</td>\n",
       "      <td>3.0</td>\n",
       "      <td>2.1</td>\n",
       "    </tr>\n",
       "    <tr>\n",
       "      <th>...</th>\n",
       "      <td>...</td>\n",
       "      <td>...</td>\n",
       "      <td>...</td>\n",
       "      <td>...</td>\n",
       "      <td>...</td>\n",
       "      <td>...</td>\n",
       "      <td>...</td>\n",
       "      <td>...</td>\n",
       "      <td>...</td>\n",
       "      <td>...</td>\n",
       "      <td>...</td>\n",
       "    </tr>\n",
       "    <tr>\n",
       "      <th>2923</th>\n",
       "      <td>142500.0</td>\n",
       "      <td>1003.0</td>\n",
       "      <td>7937.0</td>\n",
       "      <td>TA</td>\n",
       "      <td>2.0</td>\n",
       "      <td>1003.0</td>\n",
       "      <td>588.0</td>\n",
       "      <td>120.0</td>\n",
       "      <td>22.0</td>\n",
       "      <td>3.0</td>\n",
       "      <td>2.0</td>\n",
       "    </tr>\n",
       "    <tr>\n",
       "      <th>2924</th>\n",
       "      <td>131000.0</td>\n",
       "      <td>864.0</td>\n",
       "      <td>8885.0</td>\n",
       "      <td>TA</td>\n",
       "      <td>3.0</td>\n",
       "      <td>902.0</td>\n",
       "      <td>484.0</td>\n",
       "      <td>164.0</td>\n",
       "      <td>23.0</td>\n",
       "      <td>2.0</td>\n",
       "      <td>2.0</td>\n",
       "    </tr>\n",
       "    <tr>\n",
       "      <th>2925</th>\n",
       "      <td>132000.0</td>\n",
       "      <td>912.0</td>\n",
       "      <td>10441.0</td>\n",
       "      <td>TA</td>\n",
       "      <td>3.0</td>\n",
       "      <td>970.0</td>\n",
       "      <td>0.0</td>\n",
       "      <td>112.0</td>\n",
       "      <td>14.0</td>\n",
       "      <td>3.0</td>\n",
       "      <td>1.1</td>\n",
       "    </tr>\n",
       "    <tr>\n",
       "      <th>2926</th>\n",
       "      <td>170000.0</td>\n",
       "      <td>1389.0</td>\n",
       "      <td>10010.0</td>\n",
       "      <td>Gd</td>\n",
       "      <td>2.0</td>\n",
       "      <td>1389.0</td>\n",
       "      <td>418.0</td>\n",
       "      <td>278.0</td>\n",
       "      <td>32.0</td>\n",
       "      <td>2.0</td>\n",
       "      <td>2.0</td>\n",
       "    </tr>\n",
       "    <tr>\n",
       "      <th>2927</th>\n",
       "      <td>188000.0</td>\n",
       "      <td>996.0</td>\n",
       "      <td>9627.0</td>\n",
       "      <td>Ex</td>\n",
       "      <td>4.0</td>\n",
       "      <td>2000.0</td>\n",
       "      <td>650.0</td>\n",
       "      <td>238.0</td>\n",
       "      <td>13.0</td>\n",
       "      <td>3.0</td>\n",
       "      <td>2.1</td>\n",
       "    </tr>\n",
       "  </tbody>\n",
       "</table>\n",
       "<p>2928 rows × 11 columns</p>\n",
       "</div>"
      ],
      "text/plain": [
       "      SalePrice  Basement_Area  Lot_Area Heating_QC  Season_Sold  Gr_Liv_Area  \\\n",
       "0      215000.0         1080.0   31770.0         Fa          2.0       1656.0   \n",
       "1      105000.0          882.0   11622.0         TA          3.0        896.0   \n",
       "2      172000.0         1329.0   14267.0         TA          3.0       1329.0   \n",
       "3      244000.0         2110.0   11160.0         Ex          2.0       2110.0   \n",
       "4      189900.0          928.0   13830.0         Gd          2.0       1629.0   \n",
       "...         ...            ...       ...        ...          ...          ...   \n",
       "2923   142500.0         1003.0    7937.0         TA          2.0       1003.0   \n",
       "2924   131000.0          864.0    8885.0         TA          3.0        902.0   \n",
       "2925   132000.0          912.0   10441.0         TA          3.0        970.0   \n",
       "2926   170000.0         1389.0   10010.0         Gd          2.0       1389.0   \n",
       "2927   188000.0          996.0    9627.0         Ex          4.0       2000.0   \n",
       "\n",
       "      Garage_Area  Deck_Porch_Area  Age_Sold  Bedroom_AbvGr  Total_Bathroom  \n",
       "0           528.0            272.0      50.0            3.0             2.0  \n",
       "1           730.0            260.0      49.0            2.0             1.0  \n",
       "2           312.0            429.0      52.0            3.0             1.1  \n",
       "3           522.0              0.0      42.0            3.0             3.1  \n",
       "4           482.0            246.0      13.0            3.0             2.1  \n",
       "...           ...              ...       ...            ...             ...  \n",
       "2923        588.0            120.0      22.0            3.0             2.0  \n",
       "2924        484.0            164.0      23.0            2.0             2.0  \n",
       "2925          0.0            112.0      14.0            3.0             1.1  \n",
       "2926        418.0            278.0      32.0            2.0             2.0  \n",
       "2927        650.0            238.0      13.0            3.0             2.1  \n",
       "\n",
       "[2928 rows x 11 columns]"
      ]
     },
     "execution_count": 3,
     "metadata": {},
     "output_type": "execute_result"
    }
   ],
   "source": [
    "# fazendo a leitura do arquivo já em R (caso não tenha essa biblioteca, não deixe de instalar)\n",
    "precos = pyreadr.read_r('dados/precos.rds')[None]\n",
    "precos"
   ]
  },
  {
   "cell_type": "code",
   "execution_count": 4,
   "id": "c0131384-0d15-4cfb-90a1-6c4afd43cf84",
   "metadata": {},
   "outputs": [],
   "source": [
    "# selecionando apenas as variaveis numericas para brincar\n",
    "precos = precos.drop(['Heating_QC','Season_Sold'],axis = 1)"
   ]
  },
  {
   "cell_type": "markdown",
   "id": "bbd67c2a",
   "metadata": {},
   "source": [
    "### <code style=\"color:green\">Modelo sem nenhuma transformação:</code>"
   ]
  },
  {
   "cell_type": "code",
   "execution_count": 5,
   "id": "e54bad67",
   "metadata": {},
   "outputs": [
    {
     "name": "stdout",
     "output_type": "stream",
     "text": [
      "                            OLS Regression Results                            \n",
      "==============================================================================\n",
      "Dep. Variable:              SalePrice   R-squared:                       0.755\n",
      "Model:                            OLS   Adj. R-squared:                  0.754\n",
      "Method:                 Least Squares   F-statistic:                     1122.\n",
      "Date:                Tue, 21 Jan 2025   Prob (F-statistic):               0.00\n",
      "Time:                        14:07:03   Log-Likelihood:                -35149.\n",
      "No. Observations:                2928   AIC:                         7.032e+04\n",
      "Df Residuals:                    2919   BIC:                         7.037e+04\n",
      "Df Model:                           8                                         \n",
      "Covariance Type:            nonrobust                                         \n",
      "===================================================================================\n",
      "                      coef    std err          t      P>|t|      [0.025      0.975]\n",
      "-----------------------------------------------------------------------------------\n",
      "const             3.68e+04   4070.624      9.041      0.000    2.88e+04    4.48e+04\n",
      "Basement_Area      34.7501      2.105     16.509      0.000      30.623      38.877\n",
      "Lot_Area            0.3326      0.099      3.348      0.001       0.138       0.527\n",
      "Gr_Liv_Area        78.0058      2.285     34.132      0.000      73.525      82.487\n",
      "Garage_Area        55.5884      4.486     12.391      0.000      46.792      64.385\n",
      "Deck_Porch_Area    32.4145      5.288      6.130      0.000      22.046      42.783\n",
      "Age_Sold         -597.4556     30.927    -19.318      0.000    -658.097    -536.814\n",
      "Bedroom_AbvGr   -1.357e+04   1091.192    -12.432      0.000   -1.57e+04   -1.14e+04\n",
      "Total_Bathroom   7900.0179   1305.726      6.050      0.000    5339.780    1.05e+04\n",
      "==============================================================================\n",
      "Omnibus:                     1619.021   Durbin-Watson:                   1.426\n",
      "Prob(Omnibus):                  0.000   Jarque-Bera (JB):           216830.638\n",
      "Skew:                          -1.615   Prob(JB):                         0.00\n",
      "Kurtosis:                      45.034   Cond. No.                     7.32e+04\n",
      "==============================================================================\n",
      "\n",
      "Notes:\n",
      "[1] Standard Errors assume that the covariance matrix of the errors is correctly specified.\n",
      "[2] The condition number is large, 7.32e+04. This might indicate that there are\n",
      "strong multicollinearity or other numerical problems.\n"
     ]
    }
   ],
   "source": [
    "# criando o modelo com todas as X´s sem transformação alguma\n",
    "# Criando o objeto X com a variável independentes. \n",
    "X = precos.drop(['SalePrice'],axis = 1)\n",
    "# criando o objeto y com a variável resposta\n",
    "y = precos[\"SalePrice\"]\n",
    "# Aqui lembre-se do B0. Basicamente vamos adicionar uma coluna de 1s para que o B0 seja calculado.\n",
    "X = sm.add_constant(X)\n",
    "# Ajustando o modelo\n",
    "model_preco_original_completo = sm.OLS(y, X).fit()\n",
    "# Resumo do modelo\n",
    "print(model_preco_original_completo.summary())"
   ]
  },
  {
   "cell_type": "markdown",
   "id": "b7630bd9",
   "metadata": {},
   "source": [
    "### <code style=\"color:green\">Gráfico Resíduos do modelo sem nenhuma transformação:</code>"
   ]
  },
  {
   "cell_type": "code",
   "execution_count": 6,
   "id": "adfb5277",
   "metadata": {},
   "outputs": [
    {
     "data": {
      "image/png": "[encoded data removed]",
      "text/plain": [
       "<Figure size 1000x600 with 1 Axes>"
      ]
     },
     "metadata": {},
     "output_type": "display_data"
    }
   ],
   "source": [
    "# plotando o ajustado X residuo \n",
    "plt.figure(figsize=(10, 6))\n",
    "#fazendo o gráfico de predito x resíduo\n",
    "plt.scatter(model_preco_original_completo.predict(X),model_preco_original_completo.resid, color='black')\n",
    "plt.axhline(y=0, color = 'black')\n",
    "plt.xlabel('Valores Ajustados')\n",
    "plt.ylabel('Resíduos')\n",
    "plt.show()"
   ]
  },
  {
   "cell_type": "markdown",
   "id": "5eb391d4",
   "metadata": {},
   "source": [
    "### <code style=\"color:green\">Relembrando Transformação Box-Cox</code>\n",
    "\n",
    "Para realizar a transformação Box-Cox primeiro precisamos do valor do $\\lambda$:\n",
    "\n",
    "$$\n",
    "y(\\lambda) = \n",
    "\\begin{cases} \n",
    "\\frac{y^\\lambda - 1}{\\lambda} & \\text{se } \\lambda \\neq 0 \\\\\n",
    "\\log(y) & \\text{se } \\lambda = 0\n",
    "\\end{cases} \n",
    "$$"
   ]
  },
  {
   "cell_type": "code",
   "execution_count": 7,
   "id": "40438c08",
   "metadata": {},
   "outputs": [
    {
     "name": "stdout",
     "output_type": "stream",
     "text": [
      "[0.00766592]\n"
     ]
    }
   ],
   "source": [
    "#descobrinado lambda\n",
    "\n",
    "# criando o objeto para transformar\n",
    "pt = PowerTransformer('box-cox') \n",
    "\n",
    "# ajustando aos dados\n",
    "power = pt.fit_transform(precos[['SalePrice']]) \n",
    "# retirando o lambda\n",
    "lambda_param = pt.lambdas_ \n",
    "print(lambda_param)"
   ]
  },
  {
   "cell_type": "markdown",
   "id": "2e352d0c",
   "metadata": {},
   "source": [
    "### <code style=\"color:green\">Transformando o Y</code>\n",
    "\n",
    "Com o $\\lambda$ gerado, agora podemos transformar a variável y (note que a variável `power` já é os y transformados mas vamos criar a fórmula do zero)!"
   ]
  },
  {
   "cell_type": "code",
   "execution_count": 8,
   "id": "1d22f0a0",
   "metadata": {},
   "outputs": [
    {
     "data": {
      "text/plain": [
       "0       12.874811\n",
       "1       12.089558\n",
       "2       12.629854\n",
       "3       13.013897\n",
       "4       12.738483\n",
       "          ...    \n",
       "2923    12.423633\n",
       "2924    12.331504\n",
       "2925    12.339828\n",
       "2926    12.617026\n",
       "2927    12.727446\n",
       "Name: BC_SalePrice, Length: 2928, dtype: float64"
      ]
     },
     "execution_count": 8,
     "metadata": {},
     "output_type": "execute_result"
    }
   ],
   "source": [
    "precos['BC_SalePrice'] = ((precos['SalePrice']**lambda_param[0]) -1)/ lambda_param[0]\n",
    "precos['BC_SalePrice']"
   ]
  },
  {
   "cell_type": "markdown",
   "id": "bcddb9c8",
   "metadata": {},
   "source": [
    "### <code style=\"color:green\">Modelo Box-Cox sem nenhuma transformação nos X´s:</code>"
   ]
  },
  {
   "cell_type": "code",
   "execution_count": 9,
   "id": "b73a55cc",
   "metadata": {},
   "outputs": [
    {
     "name": "stdout",
     "output_type": "stream",
     "text": [
      "                            OLS Regression Results                            \n",
      "==============================================================================\n",
      "Dep. Variable:           BC_SalePrice   R-squared:                       0.773\n",
      "Model:                            OLS   Adj. R-squared:                  0.773\n",
      "Method:                 Least Squares   F-statistic:                     1245.\n",
      "Date:                Tue, 21 Jan 2025   Prob (F-statistic):               0.00\n",
      "Time:                        14:07:03   Log-Likelihood:                 377.30\n",
      "No. Observations:                2928   AIC:                            -736.6\n",
      "Df Residuals:                    2919   BIC:                            -682.8\n",
      "Df Model:                           8                                         \n",
      "Covariance Type:            nonrobust                                         \n",
      "===================================================================================\n",
      "                      coef    std err          t      P>|t|      [0.025      0.975]\n",
      "-----------------------------------------------------------------------------------\n",
      "const              11.8005      0.022    539.186      0.000      11.758      11.843\n",
      "Basement_Area       0.0002   1.13e-05     15.196      0.000       0.000       0.000\n",
      "Lot_Area         1.643e-06   5.34e-07      3.077      0.002    5.96e-07    2.69e-06\n",
      "Gr_Liv_Area         0.0004   1.23e-05     30.188      0.000       0.000       0.000\n",
      "Garage_Area         0.0003   2.41e-05     13.376      0.000       0.000       0.000\n",
      "Deck_Porch_Area     0.0002   2.84e-05      7.777      0.000       0.000       0.000\n",
      "Age_Sold           -0.0044      0.000    -26.582      0.000      -0.005      -0.004\n",
      "Bedroom_AbvGr      -0.0349      0.006     -5.950      0.000      -0.046      -0.023\n",
      "Total_Bathroom      0.0546      0.007      7.778      0.000       0.041       0.068\n",
      "==============================================================================\n",
      "Omnibus:                     2344.205   Durbin-Watson:                   1.593\n",
      "Prob(Omnibus):                  0.000   Jarque-Bera (JB):           168799.327\n",
      "Skew:                          -3.260   Prob(JB):                         0.00\n",
      "Kurtosis:                      39.621   Cond. No.                     7.32e+04\n",
      "==============================================================================\n",
      "\n",
      "Notes:\n",
      "[1] Standard Errors assume that the covariance matrix of the errors is correctly specified.\n",
      "[2] The condition number is large, 7.32e+04. This might indicate that there are\n",
      "strong multicollinearity or other numerical problems.\n"
     ]
    }
   ],
   "source": [
    "# criando o modelo com todas as X´s sem transformação alguma porem com Y do BoxCox\n",
    "# Criando o objeto X com a variável independentes. \n",
    "X = precos.drop(['SalePrice','BC_SalePrice'],axis = 1)\n",
    "# criando o objeto y com a variável resposta transformada\n",
    "y = precos[\"BC_SalePrice\"]\n",
    "# Aqui lembre-se do B0. Basicamente vamos adicionar uma coluna de 1s para que o B0 seja calculado.\n",
    "X = sm.add_constant(X)\n",
    "# Ajustando o modelo\n",
    "model_BC_preco_original_completo = sm.OLS(y, X).fit()\n",
    "# Resumo do modelo\n",
    "print(model_BC_preco_original_completo.summary())"
   ]
  },
  {
   "cell_type": "markdown",
   "id": "32ad449f",
   "metadata": {},
   "source": [
    "### <code style=\"color:green\">Gráfico Resíduos do modelo com y transformado BoxCox e as X´s sem nenhuma transformação:</code>"
   ]
  },
  {
   "cell_type": "code",
   "execution_count": 10,
   "id": "966dfe70",
   "metadata": {},
   "outputs": [
    {
     "data": {
      "image/png": "[encoded data removed]",
      "text/plain": [
       "<Figure size 1000x600 with 1 Axes>"
      ]
     },
     "metadata": {},
     "output_type": "display_data"
    }
   ],
   "source": [
    "# plotando o ajustado X residuo \n",
    "plt.figure(figsize=(10, 6))\n",
    "#fazendo o gráfico de predito x resíduo\n",
    "plt.scatter(model_BC_preco_original_completo.predict(X),model_BC_preco_original_completo.resid, color='black')\n",
    "plt.axhline(y=0, color = 'black')\n",
    "plt.xlabel('Valores Ajustados')\n",
    "plt.ylabel('Resíduos')\n",
    "plt.show()"
   ]
  },
  {
   "cell_type": "markdown",
   "id": "c72cae83",
   "metadata": {},
   "source": [
    "### <code style=\"color:purple\">COMENTÁRIOS:</code>\n",
    "\n",
    "- Ainda não resolvemos o problema, mas já pudemos ver o efeito. Notou que o desenho de buumerang já suavizou?\n",
    "\n",
    "- Quem sabe transformando as X´s a gente resolva o problema. Vamos testar?"
   ]
  },
  {
   "cell_type": "markdown",
   "id": "a08dd20a-a76d-4273-b13c-7fbf2c9abba4",
   "metadata": {},
   "source": [
    "### <code style=\"color:green\">Transformando as Variáveis X´s</code>\n",
    "\n",
    "- Quando temos as variáveis independentes muito assimétricas, uma boa estratégia é realizar a transformação em LOG delas!\n",
    "\n",
    "- Assim elas podem ajudar não só no desempenho do modelo, mas também ajudam a normalizar os resíduos"
   ]
  },
  {
   "cell_type": "code",
   "execution_count": 11,
   "id": "fd24a713-4b99-48c0-a78d-cc8a57c4bfdc",
   "metadata": {},
   "outputs": [],
   "source": [
    "# primeiro vou aplicar o log de todas as variaveis X´s\n",
    "precos_log = precos.copy()\n",
    "precos_log['Basement_Area_log'] = np.log10(precos_log['Basement_Area'] + 1)\n",
    "precos_log['Lot_Area_log'] = np.log10(precos_log['Lot_Area'] + 1)\n",
    "precos_log['Gr_Liv_Area_log'] = np.log10(precos_log['Gr_Liv_Area'] + 1)\n",
    "precos_log['Garage_Area_log'] = np.log10(precos_log['Garage_Area'] + 1)\n",
    "precos_log['Deck_Porch_Area_log'] = np.log10(precos_log['Deck_Porch_Area'] + 1)\n",
    "precos_log['Age_Sold_log'] = np.log10(precos_log['Age_Sold'] + 2)\n",
    "precos_log['Bedroom_AbvGr_log'] = np.log10(precos_log['Bedroom_AbvGr'] + 1)\n",
    "precos_log['Total_Bathroom_log'] = np.log10(precos_log['Total_Bathroom'] + 1)"
   ]
  },
  {
   "cell_type": "markdown",
   "id": "bbac5b60",
   "metadata": {},
   "source": [
    "### <code style=\"color:green\">Transformando o Y na base com X em log</code>\n",
    "\n",
    "Com o $\\lambda$ gerado, agora podemos transformar a variável y (note que a variável `power` já é os y transformados mas vamos criar a fórmula do zero)!"
   ]
  },
  {
   "cell_type": "code",
   "execution_count": 12,
   "id": "086bb2f2",
   "metadata": {},
   "outputs": [
    {
     "data": {
      "text/plain": [
       "0       12.874811\n",
       "1       12.089558\n",
       "2       12.629854\n",
       "3       13.013897\n",
       "4       12.738483\n",
       "          ...    \n",
       "2923    12.423633\n",
       "2924    12.331504\n",
       "2925    12.339828\n",
       "2926    12.617026\n",
       "2927    12.727446\n",
       "Name: BC_SalePrice, Length: 2928, dtype: float64"
      ]
     },
     "execution_count": 12,
     "metadata": {},
     "output_type": "execute_result"
    }
   ],
   "source": [
    "precos_log['BC_SalePrice'] = ((precos_log['SalePrice']**lambda_param[0]) -1)/ lambda_param[0]\n",
    "precos_log['BC_SalePrice']"
   ]
  },
  {
   "cell_type": "markdown",
   "id": "8fbcb060",
   "metadata": {},
   "source": [
    "### <code style=\"color:green\">Modelo Box-Cox com transformação nos X´s:</code>"
   ]
  },
  {
   "cell_type": "code",
   "execution_count": 13,
   "id": "6e536bc9",
   "metadata": {},
   "outputs": [
    {
     "name": "stdout",
     "output_type": "stream",
     "text": [
      "                            OLS Regression Results                            \n",
      "==============================================================================\n",
      "Dep. Variable:           BC_SalePrice   R-squared:                       0.794\n",
      "Model:                            OLS   Adj. R-squared:                  0.793\n",
      "Method:                 Least Squares   F-statistic:                     1403.\n",
      "Date:                Tue, 21 Jan 2025   Prob (F-statistic):               0.00\n",
      "Time:                        14:07:04   Log-Likelihood:                 514.95\n",
      "No. Observations:                2928   AIC:                            -1012.\n",
      "Df Residuals:                    2919   BIC:                            -958.1\n",
      "Df Model:                           8                                         \n",
      "Covariance Type:            nonrobust                                         \n",
      "=======================================================================================\n",
      "                          coef    std err          t      P>|t|      [0.025      0.975]\n",
      "---------------------------------------------------------------------------------------\n",
      "const                   6.5942      0.112     58.880      0.000       6.375       6.814\n",
      "Basement_Area_log       0.1203      0.008     15.569      0.000       0.105       0.135\n",
      "Lot_Area_log            0.2897      0.019     15.622      0.000       0.253       0.326\n",
      "Gr_Liv_Area_log         1.4763      0.039     37.380      0.000       1.399       1.554\n",
      "Garage_Area_log         0.0879      0.007     13.410      0.000       0.075       0.101\n",
      "Deck_Porch_Area_log     0.0295      0.004      6.824      0.000       0.021       0.038\n",
      "Age_Sold_log           -0.2821      0.009    -30.862      0.000      -0.300      -0.264\n",
      "Bedroom_AbvGr_log      -0.4787      0.046    -10.430      0.000      -0.569      -0.389\n",
      "Total_Bathroom_log      0.5060      0.045     11.222      0.000       0.418       0.594\n",
      "==============================================================================\n",
      "Omnibus:                     1325.338   Durbin-Watson:                   1.572\n",
      "Prob(Omnibus):                  0.000   Jarque-Bera (JB):            21486.865\n",
      "Skew:                          -1.725   Prob(JB):                         0.00\n",
      "Kurtosis:                      15.815   Cond. No.                         216.\n",
      "==============================================================================\n",
      "\n",
      "Notes:\n",
      "[1] Standard Errors assume that the covariance matrix of the errors is correctly specified.\n"
     ]
    }
   ],
   "source": [
    "# criando o modelo com todas as X´s com transformação log e com Y do BoxCox\n",
    "# Criando o objeto X com a variável independentes. \n",
    "X = precos_log.filter(like='_log')\n",
    "# criando o objeto y com a variável resposta transformada\n",
    "y = precos_log[\"BC_SalePrice\"]\n",
    "# Aqui lembre-se do B0. Basicamente vamos adicionar uma coluna de 1s para que o B0 seja calculado.\n",
    "X = sm.add_constant(X)\n",
    "# Ajustando o modelo\n",
    "model_BC_preco_trans_completo = sm.OLS(y, X).fit()\n",
    "# Resumo do modelo\n",
    "print(model_BC_preco_trans_completo.summary())"
   ]
  },
  {
   "cell_type": "markdown",
   "id": "4a07ff30",
   "metadata": {},
   "source": [
    "### <code style=\"color:green\">Gráfico Resíduos do modelo com y transformado BoxCox e as X´s com transformação log:</code>"
   ]
  },
  {
   "cell_type": "code",
   "execution_count": 14,
   "id": "b92ef5bd",
   "metadata": {},
   "outputs": [
    {
     "data": {
      "image/png": "[encoded data removed]",
      "text/plain": [
       "<Figure size 1000x600 with 1 Axes>"
      ]
     },
     "metadata": {},
     "output_type": "display_data"
    }
   ],
   "source": [
    "# plotando o ajustado X residuo \n",
    "plt.figure(figsize=(10, 6))\n",
    "#fazendo o gráfico de predito x resíduo\n",
    "plt.scatter(model_BC_preco_trans_completo.predict(X),model_BC_preco_trans_completo.resid, color='black')\n",
    "plt.axhline(y=0, color = 'black')\n",
    "plt.xlabel('Valores Ajustados')\n",
    "plt.ylabel('Resíduos')\n",
    "plt.show()"
   ]
  },
  {
   "cell_type": "markdown",
   "id": "4f6b98c9",
   "metadata": {},
   "source": [
    "### <code style=\"color:purple\">COMENTÁRIOS:</code>\n",
    "\n",
    "- Infelizmente não resolvemos o problema, eventualmente esse problema não consegue ser resolvido com Regressão Linear =/\n",
    "\n",
    "Vamos entender o predict quando usamos a transformação BoxCox?\n",
    "\n",
    "Quero que você observe o y verdadeiro, o y transformado e o ychapeu do ytransformado"
   ]
  },
  {
   "cell_type": "code",
   "execution_count": 15,
   "id": "06c8e206",
   "metadata": {},
   "outputs": [
    {
     "data": {
      "text/html": [
       "<div>\n",
       "<style scoped>\n",
       "    .dataframe tbody tr th:only-of-type {\n",
       "        vertical-align: middle;\n",
       "    }\n",
       "\n",
       "    .dataframe tbody tr th {\n",
       "        vertical-align: top;\n",
       "    }\n",
       "\n",
       "    .dataframe thead th {\n",
       "        text-align: right;\n",
       "    }\n",
       "</style>\n",
       "<table border=\"1\" class=\"dataframe\">\n",
       "  <thead>\n",
       "    <tr style=\"text-align: right;\">\n",
       "      <th></th>\n",
       "      <th>SalePrice</th>\n",
       "      <th>BC_SalePrice</th>\n",
       "      <th>ychapeu_transformado</th>\n",
       "    </tr>\n",
       "  </thead>\n",
       "  <tbody>\n",
       "    <tr>\n",
       "      <th>0</th>\n",
       "      <td>215000.0</td>\n",
       "      <td>12.874811</td>\n",
       "      <td>12.796653</td>\n",
       "    </tr>\n",
       "    <tr>\n",
       "      <th>1</th>\n",
       "      <td>105000.0</td>\n",
       "      <td>12.089558</td>\n",
       "      <td>12.250939</td>\n",
       "    </tr>\n",
       "    <tr>\n",
       "      <th>2</th>\n",
       "      <td>172000.0</td>\n",
       "      <td>12.629854</td>\n",
       "      <td>12.468587</td>\n",
       "    </tr>\n",
       "    <tr>\n",
       "      <th>3</th>\n",
       "      <td>244000.0</td>\n",
       "      <td>13.013897</td>\n",
       "      <td>12.872005</td>\n",
       "    </tr>\n",
       "    <tr>\n",
       "      <th>4</th>\n",
       "      <td>189900.0</td>\n",
       "      <td>12.738483</td>\n",
       "      <td>12.828325</td>\n",
       "    </tr>\n",
       "  </tbody>\n",
       "</table>\n",
       "</div>"
      ],
      "text/plain": [
       "   SalePrice  BC_SalePrice  ychapeu_transformado\n",
       "0   215000.0     12.874811             12.796653\n",
       "1   105000.0     12.089558             12.250939\n",
       "2   172000.0     12.629854             12.468587\n",
       "3   244000.0     13.013897             12.872005\n",
       "4   189900.0     12.738483             12.828325"
      ]
     },
     "execution_count": 15,
     "metadata": {},
     "output_type": "execute_result"
    }
   ],
   "source": [
    "precos_log['ychapeu_transformado'] = model_BC_preco_trans_completo.predict(X)\n",
    "precos_log[['SalePrice', 'BC_SalePrice', 'ychapeu_transformado']].head()"
   ]
  },
  {
   "cell_type": "markdown",
   "id": "3ccc1c23",
   "metadata": {},
   "source": [
    "### <code style=\"color:purple\">COMENTÁRIOS:</code>\n",
    "\n",
    "Você notou que o modelo prediz o valor transformado?\n",
    "\n",
    "Sendo assim, do que adianta, não é mesmo? O que faríamos com isso na vida prática?\n",
    "\n",
    "Nada, não é mesmo?\n",
    "\n",
    "Mas é exatamente isso que o artigo do Box e Cox nos ajuda. Eles demonstram que para que o ychapeu_transformado seja o ychapeu original precisamos aplicar a seguinte transformação:\n",
    "\n",
    "$$\\left( \\left( BCy \\cdot \\lambda \\right) + 1 \\right) ^ \\left( \\frac{1}{\\lambda} \\right)$$\n",
    "\n"
   ]
  },
  {
   "cell_type": "code",
   "execution_count": 16,
   "id": "93b89ac3",
   "metadata": {},
   "outputs": [
    {
     "data": {
      "text/html": [
       "<div>\n",
       "<style scoped>\n",
       "    .dataframe tbody tr th:only-of-type {\n",
       "        vertical-align: middle;\n",
       "    }\n",
       "\n",
       "    .dataframe tbody tr th {\n",
       "        vertical-align: top;\n",
       "    }\n",
       "\n",
       "    .dataframe thead th {\n",
       "        text-align: right;\n",
       "    }\n",
       "</style>\n",
       "<table border=\"1\" class=\"dataframe\">\n",
       "  <thead>\n",
       "    <tr style=\"text-align: right;\">\n",
       "      <th></th>\n",
       "      <th>SalePrice</th>\n",
       "      <th>BC_SalePrice</th>\n",
       "      <th>ychapeu_transformado</th>\n",
       "      <th>ychapeu</th>\n",
       "    </tr>\n",
       "  </thead>\n",
       "  <tbody>\n",
       "    <tr>\n",
       "      <th>0</th>\n",
       "      <td>215000.0</td>\n",
       "      <td>12.874811</td>\n",
       "      <td>12.796653</td>\n",
       "      <td>200233.01</td>\n",
       "    </tr>\n",
       "    <tr>\n",
       "      <th>1</th>\n",
       "      <td>105000.0</td>\n",
       "      <td>12.089558</td>\n",
       "      <td>12.250939</td>\n",
       "      <td>121701.23</td>\n",
       "    </tr>\n",
       "    <tr>\n",
       "      <th>2</th>\n",
       "      <td>172000.0</td>\n",
       "      <td>12.629854</td>\n",
       "      <td>12.468587</td>\n",
       "      <td>148469.64</td>\n",
       "    </tr>\n",
       "    <tr>\n",
       "      <th>3</th>\n",
       "      <td>244000.0</td>\n",
       "      <td>13.013897</td>\n",
       "      <td>12.872005</td>\n",
       "      <td>214451.49</td>\n",
       "    </tr>\n",
       "    <tr>\n",
       "      <th>4</th>\n",
       "      <td>189900.0</td>\n",
       "      <td>12.738483</td>\n",
       "      <td>12.828325</td>\n",
       "      <td>206091.64</td>\n",
       "    </tr>\n",
       "  </tbody>\n",
       "</table>\n",
       "</div>"
      ],
      "text/plain": [
       "   SalePrice  BC_SalePrice  ychapeu_transformado    ychapeu\n",
       "0   215000.0     12.874811             12.796653  200233.01\n",
       "1   105000.0     12.089558             12.250939  121701.23\n",
       "2   172000.0     12.629854             12.468587  148469.64\n",
       "3   244000.0     13.013897             12.872005  214451.49\n",
       "4   189900.0     12.738483             12.828325  206091.64"
      ]
     },
     "execution_count": 16,
     "metadata": {},
     "output_type": "execute_result"
    }
   ],
   "source": [
    "# formula: (((BC_y * lambda) + 1)) ^ (1 / lambda)\n",
    "# ou seja, vou retrasnformar o ychapeu_transformado para o ychapeu original\n",
    "precos_log['ychapeu'] = ((precos_log['ychapeu_transformado'] * lambda_param[0]) +1) ** (1/lambda_param[0])\n",
    "# limitando o valor de ychapeu a duas casas decimais\n",
    "precos_log['ychapeu'] = precos_log['ychapeu'].round(2)\n",
    "# mostrando as variáveis que me importam\n",
    "precos_log[['SalePrice', 'BC_SalePrice', 'ychapeu_transformado' , 'ychapeu']].head()"
   ]
  }
 ],
 "metadata": {
  "kernelspec": {
   "display_name": "Python 3 (ipykernel)",
   "language": "python",
   "name": "python3"
  },
  "language_info": {
   "codemirror_mode": {
    "name": "ipython",
    "version": 3
   },
   "file_extension": ".py",
   "mimetype": "text/x-python",
   "name": "python",
   "nbconvert_exporter": "python",
   "pygments_lexer": "ipython3",
   "version": "3.10.11"
  }
 },
 "nbformat": 4,
 "nbformat_minor": 5
}
