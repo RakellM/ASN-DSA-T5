{
 "cells": [
  {
   "cell_type": "markdown",
   "id": "0dbbc554",
   "metadata": {},
   "source": [
    "# Regressão Logística\n",
    "\n",
    "   Códigos necessários para esse curso.   \n",
    "   Foco na interpretação dos resultados! \n",
    "   \n",
    "   Legendas:\n",
    "   * <code style=\"color:green\">Explicação Conteúdo</code>\n",
    "   * <code style=\"color:purple\">Dicas</code>\n",
    "   * <code style=\"color:red\">Prática</code>\n",
    "   * <code style=\"color:gray\">Contexto Negócio</code>\n"
   ]
  },
  {
   "cell_type": "markdown",
   "id": "bedd55b1",
   "metadata": {},
   "source": [
    "### <code style=\"color:green\"> Regressão Logística\n",
    "\n",
    "    É uma generalização da Regressão Linear, por isso faz parte da família dos modelos lineares generalizados.\n",
    "    - gera a probabilidade do evento de interesse\n",
    "    - método de máxima verossimilhança\n",
    "    - intepretação pela odds ratio (exponencial do parâmetro)"
   ]
  },
  {
   "cell_type": "code",
   "execution_count": 1,
   "id": "e68a4eb9",
   "metadata": {},
   "outputs": [],
   "source": [
    "#carregando pacotes\n",
    "import pandas as pd\n",
    "import numpy as np\n",
    "import seaborn as sns\n",
    "import sys\n",
    "import statistics\n",
    "import math\n",
    "import scipy.stats as stats\n",
    "import statsmodels.api as sm\n",
    "import matplotlib.pyplot as plt\n",
    "import statsmodels.formula.api as smf\n",
    "import statsmodels.stats.api as sms\n",
    "import sklearn\n",
    "from sklearn.metrics import roc_curve, auc"
   ]
  },
  {
   "cell_type": "code",
   "execution_count": 2,
   "id": "1d4a2270",
   "metadata": {},
   "outputs": [],
   "source": [
    "#assim como na regressão linear, criamos funções personalizadas para os métodos de seleção de variáveis\n",
    "#carregando funções, todas de uma vez\n",
    "\n",
    "from funcoes_importantes_regressao_logistica import step,univariada_variavel_numerica,univariada_variavel_categoria,analise_var_numerica_por_percentil"
   ]
  },
  {
   "cell_type": "markdown",
   "id": "ae0fa72e",
   "metadata": {},
   "source": [
    "### <code style=\"color:gray\">Contexto Negócio </code>\n",
    "    \n",
    "    Um navio naufragou e estamos tentando entender quais foram os critérios utilizados por eles, para definir quem eram os seres que usariam os botes disponíveis!\n",
    "    Conseguem nos ajudar a entender esses fatores?\n",
    "    \n",
    "dados: titanic.sas7bdat\n",
    "    "
   ]
  },
  {
   "cell_type": "code",
   "execution_count": 3,
   "id": "a1edc096",
   "metadata": {},
   "outputs": [
    {
     "data": {
      "text/html": [
       "<div>\n",
       "<style scoped>\n",
       "    .dataframe tbody tr th:only-of-type {\n",
       "        vertical-align: middle;\n",
       "    }\n",
       "\n",
       "    .dataframe tbody tr th {\n",
       "        vertical-align: top;\n",
       "    }\n",
       "\n",
       "    .dataframe thead th {\n",
       "        text-align: right;\n",
       "    }\n",
       "</style>\n",
       "<table border=\"1\" class=\"dataframe\">\n",
       "  <thead>\n",
       "    <tr style=\"text-align: right;\">\n",
       "      <th></th>\n",
       "      <th>Name</th>\n",
       "      <th>Age</th>\n",
       "      <th>Gender</th>\n",
       "      <th>Class</th>\n",
       "      <th>Fare</th>\n",
       "      <th>Survival</th>\n",
       "    </tr>\n",
       "  </thead>\n",
       "  <tbody>\n",
       "    <tr>\n",
       "      <th>0</th>\n",
       "      <td>Allen, Miss. Elisabeth Walton</td>\n",
       "      <td>29.0</td>\n",
       "      <td>Female</td>\n",
       "      <td>1.0</td>\n",
       "      <td>211.34</td>\n",
       "      <td>1.0</td>\n",
       "    </tr>\n",
       "    <tr>\n",
       "      <th>1</th>\n",
       "      <td>Allison, Master. Hudson Trevor</td>\n",
       "      <td>1.0</td>\n",
       "      <td>Male</td>\n",
       "      <td>1.0</td>\n",
       "      <td>151.55</td>\n",
       "      <td>1.0</td>\n",
       "    </tr>\n",
       "    <tr>\n",
       "      <th>2</th>\n",
       "      <td>Allison, Miss. Helen Loraine</td>\n",
       "      <td>2.0</td>\n",
       "      <td>Female</td>\n",
       "      <td>1.0</td>\n",
       "      <td>151.55</td>\n",
       "      <td>0.0</td>\n",
       "    </tr>\n",
       "    <tr>\n",
       "      <th>3</th>\n",
       "      <td>Allison, Mr. Hudson Joshua Creighton</td>\n",
       "      <td>30.0</td>\n",
       "      <td>Male</td>\n",
       "      <td>1.0</td>\n",
       "      <td>151.55</td>\n",
       "      <td>0.0</td>\n",
       "    </tr>\n",
       "    <tr>\n",
       "      <th>4</th>\n",
       "      <td>Allison, Mrs. Hudson J C (Bessie Waldo Daniels)</td>\n",
       "      <td>25.0</td>\n",
       "      <td>Female</td>\n",
       "      <td>1.0</td>\n",
       "      <td>151.55</td>\n",
       "      <td>0.0</td>\n",
       "    </tr>\n",
       "    <tr>\n",
       "      <th>...</th>\n",
       "      <td>...</td>\n",
       "      <td>...</td>\n",
       "      <td>...</td>\n",
       "      <td>...</td>\n",
       "      <td>...</td>\n",
       "      <td>...</td>\n",
       "    </tr>\n",
       "    <tr>\n",
       "      <th>1304</th>\n",
       "      <td>Zabour, Miss. Hileni</td>\n",
       "      <td>15.0</td>\n",
       "      <td>Female</td>\n",
       "      <td>3.0</td>\n",
       "      <td>14.45</td>\n",
       "      <td>0.0</td>\n",
       "    </tr>\n",
       "    <tr>\n",
       "      <th>1305</th>\n",
       "      <td>Zabour, Miss. Thamine</td>\n",
       "      <td>NaN</td>\n",
       "      <td>Female</td>\n",
       "      <td>3.0</td>\n",
       "      <td>14.45</td>\n",
       "      <td>0.0</td>\n",
       "    </tr>\n",
       "    <tr>\n",
       "      <th>1306</th>\n",
       "      <td>Zakarian, Mr. Mapriededer</td>\n",
       "      <td>27.0</td>\n",
       "      <td>Male</td>\n",
       "      <td>3.0</td>\n",
       "      <td>7.23</td>\n",
       "      <td>0.0</td>\n",
       "    </tr>\n",
       "    <tr>\n",
       "      <th>1307</th>\n",
       "      <td>Zakarian, Mr. Ortin</td>\n",
       "      <td>27.0</td>\n",
       "      <td>Male</td>\n",
       "      <td>3.0</td>\n",
       "      <td>7.23</td>\n",
       "      <td>0.0</td>\n",
       "    </tr>\n",
       "    <tr>\n",
       "      <th>1308</th>\n",
       "      <td>Zimmerman, Mr. Leo</td>\n",
       "      <td>29.0</td>\n",
       "      <td>Male</td>\n",
       "      <td>3.0</td>\n",
       "      <td>7.88</td>\n",
       "      <td>0.0</td>\n",
       "    </tr>\n",
       "  </tbody>\n",
       "</table>\n",
       "<p>1309 rows × 6 columns</p>\n",
       "</div>"
      ],
      "text/plain": [
       "                                                 Name   Age  Gender  Class  \\\n",
       "0                       Allen, Miss. Elisabeth Walton  29.0  Female    1.0   \n",
       "1                      Allison, Master. Hudson Trevor   1.0    Male    1.0   \n",
       "2                        Allison, Miss. Helen Loraine   2.0  Female    1.0   \n",
       "3                Allison, Mr. Hudson Joshua Creighton  30.0    Male    1.0   \n",
       "4     Allison, Mrs. Hudson J C (Bessie Waldo Daniels)  25.0  Female    1.0   \n",
       "...                                               ...   ...     ...    ...   \n",
       "1304                             Zabour, Miss. Hileni  15.0  Female    3.0   \n",
       "1305                            Zabour, Miss. Thamine   NaN  Female    3.0   \n",
       "1306                        Zakarian, Mr. Mapriededer  27.0    Male    3.0   \n",
       "1307                              Zakarian, Mr. Ortin  27.0    Male    3.0   \n",
       "1308                               Zimmerman, Mr. Leo  29.0    Male    3.0   \n",
       "\n",
       "        Fare  Survival  \n",
       "0     211.34       1.0  \n",
       "1     151.55       1.0  \n",
       "2     151.55       0.0  \n",
       "3     151.55       0.0  \n",
       "4     151.55       0.0  \n",
       "...      ...       ...  \n",
       "1304   14.45       0.0  \n",
       "1305   14.45       0.0  \n",
       "1306    7.23       0.0  \n",
       "1307    7.23       0.0  \n",
       "1308    7.88       0.0  \n",
       "\n",
       "[1309 rows x 6 columns]"
      ]
     },
     "execution_count": 3,
     "metadata": {},
     "output_type": "execute_result"
    }
   ],
   "source": [
    "#importando base titanic\n",
    "titanic = pd.read_sas(\"dados/titanic.sas7bdat\", format = \"sas7bdat\", encoding=\"iso-8859-1\")\n",
    "titanic"
   ]
  },
  {
   "cell_type": "markdown",
   "id": "3811ef26",
   "metadata": {},
   "source": [
    "### <code style=\"color:purple\"> Discutindo Atuação </code>\n",
    "    \n",
    "    O primeiro passo é sempre interessante entender um pouco mais sobre os dados e nada melhor do que começar a cronstruir o nosso \"mapa astral\" dos dados. Vamos descrevê-los e pensar no que precisamos nos preocupar em relação a cada variável?\n",
    "    \n",
    "    Dicionário de dados:\n",
    "    \n",
    "| Variável  | Descrição   | Pensamento   |\n",
    "| :------- | :-------- | :-------- |\n",
    "| Name   | Nome do Passageiro    | O nome não irá nos ajudar no modelo, certo? Serve apenas para identificação. |\n",
    "| Age   | Idade | Como será a distribuição dessa variável? Tem missing? | \n",
    "| Gender   | Sexo do passageiro | Quais são as opções que existem nessa variável? Como está a frequência para cada um dos níveis possíveis? Tem missing? | \n",
    "| Class   | Classe no Navio | Qual a classe que o passageiro estava alocado? Quantos níveis existem? |\n",
    "| Fare | Valor pago pela viagem | Como será a distribuição dessa variável? Tem missing? Faz sentido com a variável anterior? |\n",
    "| Survival | Marcação de quem sobreviveu (1) e quem não (0) | Existe missing? Qual a frequência de cada nível? |"
   ]
  },
  {
   "cell_type": "markdown",
   "id": "19b71d48",
   "metadata": {},
   "source": [
    "De uma forma ampla, comecei analisando se existem dados faltantes em alguma variável:"
   ]
  },
  {
   "cell_type": "code",
   "execution_count": 4,
   "id": "f1e2b0e8",
   "metadata": {},
   "outputs": [
    {
     "data": {
      "text/plain": [
       "Name          0\n",
       "Age         263\n",
       "Gender        0\n",
       "Class         0\n",
       "Fare          1\n",
       "Survival      0\n",
       "dtype: int64"
      ]
     },
     "execution_count": 4,
     "metadata": {},
     "output_type": "execute_result"
    }
   ],
   "source": [
    "# observando missing nas variáveis\n",
    "titanic.isnull().sum()"
   ]
  },
  {
   "cell_type": "code",
   "execution_count": 5,
   "id": "a0f9e1b4",
   "metadata": {},
   "outputs": [
    {
     "data": {
      "text/plain": [
       "Name         0.000000\n",
       "Age         20.091673\n",
       "Gender       0.000000\n",
       "Class        0.000000\n",
       "Fare         0.076394\n",
       "Survival     0.000000\n",
       "dtype: float64"
      ]
     },
     "execution_count": 5,
     "metadata": {},
     "output_type": "execute_result"
    }
   ],
   "source": [
    "# Calcular percentual de valores ausentes para cada variável\n",
    "titanic.isna().sum()/titanic.shape[0] * 100"
   ]
  },
  {
   "cell_type": "markdown",
   "id": "f7030631",
   "metadata": {},
   "source": [
    "### <code style=\"color:purple\">COMENTÁRIOS:</code>\n",
    "\n",
    "- Note que temos valores ausentes nas variáveis Age e Fare.\n",
    "\n",
    "Vamos explorar as variáveis:\n",
    "\n",
    "### <code style=\"color:green\"> Análise Univariada das Variáveis</code>\n",
    "\n",
    "Vamos realizar uma análise descritiva univariada dacada uma das nossas variáveis na base de dados."
   ]
  },
  {
   "cell_type": "markdown",
   "id": "f5e76b4b",
   "metadata": {},
   "source": [
    "### <code style=\"color:green\">Variável: Idade</code>"
   ]
  },
  {
   "cell_type": "code",
   "execution_count": 6,
   "id": "1031ac50",
   "metadata": {},
   "outputs": [
    {
     "data": {
      "image/png": "[encoded data removed]",
      "text/plain": [
       "<Figure size 1400x1000 with 5 Axes>"
      ]
     },
     "metadata": {},
     "output_type": "display_data"
    }
   ],
   "source": [
    "#utilizando a função de análise descritiva para uma variável contínua\n",
    "#função para análise descritiva e gráfica de uma variável contínua.\n",
    "univariada_variavel_numerica(titanic, \"Age\")"
   ]
  },
  {
   "cell_type": "markdown",
   "id": "c2b49a3b",
   "metadata": {},
   "source": [
    "### <code style=\"color:green\">Variável: Gender</code>"
   ]
  },
  {
   "cell_type": "code",
   "execution_count": 7,
   "id": "60593e2f",
   "metadata": {},
   "outputs": [
    {
     "name": "stdout",
     "output_type": "stream",
     "text": [
      "Describe da variável categórica:\n"
     ]
    },
    {
     "data": {
      "text/html": [
       "<div>\n",
       "<style scoped>\n",
       "    .dataframe tbody tr th:only-of-type {\n",
       "        vertical-align: middle;\n",
       "    }\n",
       "\n",
       "    .dataframe tbody tr th {\n",
       "        vertical-align: top;\n",
       "    }\n",
       "\n",
       "    .dataframe thead th {\n",
       "        text-align: right;\n",
       "    }\n",
       "</style>\n",
       "<table border=\"1\" class=\"dataframe\">\n",
       "  <thead>\n",
       "    <tr style=\"text-align: right;\">\n",
       "      <th></th>\n",
       "      <th>count</th>\n",
       "      <th>unique</th>\n",
       "      <th>top</th>\n",
       "      <th>freq</th>\n",
       "    </tr>\n",
       "  </thead>\n",
       "  <tbody>\n",
       "    <tr>\n",
       "      <th>Gender</th>\n",
       "      <td>1309</td>\n",
       "      <td>2</td>\n",
       "      <td>Male</td>\n",
       "      <td>843</td>\n",
       "    </tr>\n",
       "  </tbody>\n",
       "</table>\n",
       "</div>"
      ],
      "text/plain": [
       "       count unique   top freq\n",
       "Gender  1309      2  Male  843"
      ]
     },
     "metadata": {},
     "output_type": "display_data"
    },
    {
     "name": "stdout",
     "output_type": "stream",
     "text": [
      "Tabela de frequência da variável categórica (com percentuais e total):\n"
     ]
    },
    {
     "data": {
      "text/html": [
       "<div>\n",
       "<style scoped>\n",
       "    .dataframe tbody tr th:only-of-type {\n",
       "        vertical-align: middle;\n",
       "    }\n",
       "\n",
       "    .dataframe tbody tr th {\n",
       "        vertical-align: top;\n",
       "    }\n",
       "\n",
       "    .dataframe thead th {\n",
       "        text-align: right;\n",
       "    }\n",
       "</style>\n",
       "<table border=\"1\" class=\"dataframe\">\n",
       "  <thead>\n",
       "    <tr style=\"text-align: right;\">\n",
       "      <th></th>\n",
       "      <th>Gender</th>\n",
       "      <th>Frequência</th>\n",
       "      <th>Percentual (%)</th>\n",
       "    </tr>\n",
       "  </thead>\n",
       "  <tbody>\n",
       "    <tr>\n",
       "      <th>0</th>\n",
       "      <td>Male</td>\n",
       "      <td>843</td>\n",
       "      <td>64.4</td>\n",
       "    </tr>\n",
       "    <tr>\n",
       "      <th>1</th>\n",
       "      <td>Female</td>\n",
       "      <td>466</td>\n",
       "      <td>35.6</td>\n",
       "    </tr>\n",
       "    <tr>\n",
       "      <th>2</th>\n",
       "      <td>Total</td>\n",
       "      <td>1309</td>\n",
       "      <td>100.0</td>\n",
       "    </tr>\n",
       "  </tbody>\n",
       "</table>\n",
       "</div>"
      ],
      "text/plain": [
       "   Gender  Frequência  Percentual (%)\n",
       "0    Male         843            64.4\n",
       "1  Female         466            35.6\n",
       "2   Total        1309           100.0"
      ]
     },
     "metadata": {},
     "output_type": "display_data"
    },
    {
     "data": {
      "image/png": "[encoded data removed]",
      "text/plain": [
       "<Figure size 800x500 with 1 Axes>"
      ]
     },
     "metadata": {},
     "output_type": "display_data"
    }
   ],
   "source": [
    "#utilizando a função de análise descritiva para uma variável categórica\n",
    "#Ela tem por objetivo te ajudar na sua exploratória de dados.\n",
    "#Essa função cria o describe, uma tabela de frequência e um gráfico de barras.\n",
    "univariada_variavel_categoria(titanic, \"Gender\")"
   ]
  },
  {
   "cell_type": "markdown",
   "id": "3f6c8be9",
   "metadata": {},
   "source": [
    "### <code style=\"color:green\">Variável: Class</code>"
   ]
  },
  {
   "cell_type": "code",
   "execution_count": 8,
   "id": "c5e01fa8",
   "metadata": {},
   "outputs": [
    {
     "name": "stdout",
     "output_type": "stream",
     "text": [
      "Describe da variável categórica:\n"
     ]
    },
    {
     "data": {
      "text/html": [
       "<div>\n",
       "<style scoped>\n",
       "    .dataframe tbody tr th:only-of-type {\n",
       "        vertical-align: middle;\n",
       "    }\n",
       "\n",
       "    .dataframe tbody tr th {\n",
       "        vertical-align: top;\n",
       "    }\n",
       "\n",
       "    .dataframe thead th {\n",
       "        text-align: right;\n",
       "    }\n",
       "</style>\n",
       "<table border=\"1\" class=\"dataframe\">\n",
       "  <thead>\n",
       "    <tr style=\"text-align: right;\">\n",
       "      <th></th>\n",
       "      <th>count</th>\n",
       "      <th>unique</th>\n",
       "      <th>top</th>\n",
       "      <th>freq</th>\n",
       "    </tr>\n",
       "  </thead>\n",
       "  <tbody>\n",
       "    <tr>\n",
       "      <th>Class</th>\n",
       "      <td>1309.0</td>\n",
       "      <td>3.0</td>\n",
       "      <td>3.0</td>\n",
       "      <td>709.0</td>\n",
       "    </tr>\n",
       "  </tbody>\n",
       "</table>\n",
       "</div>"
      ],
      "text/plain": [
       "        count  unique  top   freq\n",
       "Class  1309.0     3.0  3.0  709.0"
      ]
     },
     "metadata": {},
     "output_type": "display_data"
    },
    {
     "name": "stdout",
     "output_type": "stream",
     "text": [
      "Tabela de frequência da variável categórica (com percentuais e total):\n"
     ]
    },
    {
     "data": {
      "text/html": [
       "<div>\n",
       "<style scoped>\n",
       "    .dataframe tbody tr th:only-of-type {\n",
       "        vertical-align: middle;\n",
       "    }\n",
       "\n",
       "    .dataframe tbody tr th {\n",
       "        vertical-align: top;\n",
       "    }\n",
       "\n",
       "    .dataframe thead th {\n",
       "        text-align: right;\n",
       "    }\n",
       "</style>\n",
       "<table border=\"1\" class=\"dataframe\">\n",
       "  <thead>\n",
       "    <tr style=\"text-align: right;\">\n",
       "      <th></th>\n",
       "      <th>Class</th>\n",
       "      <th>Frequência</th>\n",
       "      <th>Percentual (%)</th>\n",
       "    </tr>\n",
       "  </thead>\n",
       "  <tbody>\n",
       "    <tr>\n",
       "      <th>0</th>\n",
       "      <td>3.0</td>\n",
       "      <td>709</td>\n",
       "      <td>54.16</td>\n",
       "    </tr>\n",
       "    <tr>\n",
       "      <th>1</th>\n",
       "      <td>1.0</td>\n",
       "      <td>323</td>\n",
       "      <td>24.68</td>\n",
       "    </tr>\n",
       "    <tr>\n",
       "      <th>2</th>\n",
       "      <td>2.0</td>\n",
       "      <td>277</td>\n",
       "      <td>21.16</td>\n",
       "    </tr>\n",
       "    <tr>\n",
       "      <th>3</th>\n",
       "      <td>Total</td>\n",
       "      <td>1309</td>\n",
       "      <td>100.00</td>\n",
       "    </tr>\n",
       "  </tbody>\n",
       "</table>\n",
       "</div>"
      ],
      "text/plain": [
       "   Class  Frequência  Percentual (%)\n",
       "0    3.0         709           54.16\n",
       "1    1.0         323           24.68\n",
       "2    2.0         277           21.16\n",
       "3  Total        1309          100.00"
      ]
     },
     "metadata": {},
     "output_type": "display_data"
    },
    {
     "data": {
      "image/png": "[encoded data removed]",
      "text/plain": [
       "<Figure size 800x500 with 1 Axes>"
      ]
     },
     "metadata": {},
     "output_type": "display_data"
    }
   ],
   "source": [
    "# Converte a variável \"Class\" para categórica\n",
    "titanic[\"Class\"] = titanic[\"Class\"].astype(\"category\")\n",
    "#utilizando a função de análise descritiva para uma variável categórica\n",
    "univariada_variavel_categoria(titanic, \"Class\")"
   ]
  },
  {
   "cell_type": "markdown",
   "id": "e4372e2a",
   "metadata": {},
   "source": [
    "### <code style=\"color:green\">Variável: Fare</code>"
   ]
  },
  {
   "cell_type": "code",
   "execution_count": 9,
   "id": "4d208084",
   "metadata": {},
   "outputs": [
    {
     "data": {
      "image/png": "[encoded data removed]",
      "text/plain": [
       "<Figure size 1400x1000 with 5 Axes>"
      ]
     },
     "metadata": {},
     "output_type": "display_data"
    }
   ],
   "source": [
    "#utilizando a função de análise descritiva para uma variável contínua\n",
    "univariada_variavel_numerica(titanic, \"Fare\")"
   ]
  },
  {
   "cell_type": "markdown",
   "id": "7b593b64",
   "metadata": {},
   "source": [
    "### <code style=\"color:green\">Variável: Survival</code>"
   ]
  },
  {
   "cell_type": "code",
   "execution_count": 10,
   "id": "50f014be",
   "metadata": {},
   "outputs": [
    {
     "name": "stdout",
     "output_type": "stream",
     "text": [
      "Describe da variável categórica:\n"
     ]
    },
    {
     "data": {
      "text/html": [
       "<div>\n",
       "<style scoped>\n",
       "    .dataframe tbody tr th:only-of-type {\n",
       "        vertical-align: middle;\n",
       "    }\n",
       "\n",
       "    .dataframe tbody tr th {\n",
       "        vertical-align: top;\n",
       "    }\n",
       "\n",
       "    .dataframe thead th {\n",
       "        text-align: right;\n",
       "    }\n",
       "</style>\n",
       "<table border=\"1\" class=\"dataframe\">\n",
       "  <thead>\n",
       "    <tr style=\"text-align: right;\">\n",
       "      <th></th>\n",
       "      <th>count</th>\n",
       "      <th>unique</th>\n",
       "      <th>top</th>\n",
       "      <th>freq</th>\n",
       "    </tr>\n",
       "  </thead>\n",
       "  <tbody>\n",
       "    <tr>\n",
       "      <th>Survival</th>\n",
       "      <td>1309.0</td>\n",
       "      <td>2.0</td>\n",
       "      <td>0.0</td>\n",
       "      <td>809.0</td>\n",
       "    </tr>\n",
       "  </tbody>\n",
       "</table>\n",
       "</div>"
      ],
      "text/plain": [
       "           count  unique  top   freq\n",
       "Survival  1309.0     2.0  0.0  809.0"
      ]
     },
     "metadata": {},
     "output_type": "display_data"
    },
    {
     "name": "stdout",
     "output_type": "stream",
     "text": [
      "Tabela de frequência da variável categórica (com percentuais e total):\n"
     ]
    },
    {
     "data": {
      "text/html": [
       "<div>\n",
       "<style scoped>\n",
       "    .dataframe tbody tr th:only-of-type {\n",
       "        vertical-align: middle;\n",
       "    }\n",
       "\n",
       "    .dataframe tbody tr th {\n",
       "        vertical-align: top;\n",
       "    }\n",
       "\n",
       "    .dataframe thead th {\n",
       "        text-align: right;\n",
       "    }\n",
       "</style>\n",
       "<table border=\"1\" class=\"dataframe\">\n",
       "  <thead>\n",
       "    <tr style=\"text-align: right;\">\n",
       "      <th></th>\n",
       "      <th>Survival</th>\n",
       "      <th>Frequência</th>\n",
       "      <th>Percentual (%)</th>\n",
       "    </tr>\n",
       "  </thead>\n",
       "  <tbody>\n",
       "    <tr>\n",
       "      <th>0</th>\n",
       "      <td>0.0</td>\n",
       "      <td>809</td>\n",
       "      <td>61.8</td>\n",
       "    </tr>\n",
       "    <tr>\n",
       "      <th>1</th>\n",
       "      <td>1.0</td>\n",
       "      <td>500</td>\n",
       "      <td>38.2</td>\n",
       "    </tr>\n",
       "    <tr>\n",
       "      <th>2</th>\n",
       "      <td>Total</td>\n",
       "      <td>1309</td>\n",
       "      <td>100.0</td>\n",
       "    </tr>\n",
       "  </tbody>\n",
       "</table>\n",
       "</div>"
      ],
      "text/plain": [
       "  Survival  Frequência  Percentual (%)\n",
       "0      0.0         809            61.8\n",
       "1      1.0         500            38.2\n",
       "2    Total        1309           100.0"
      ]
     },
     "metadata": {},
     "output_type": "display_data"
    },
    {
     "data": {
      "image/png": "[encoded data removed]",
      "text/plain": [
       "<Figure size 800x500 with 1 Axes>"
      ]
     },
     "metadata": {},
     "output_type": "display_data"
    }
   ],
   "source": [
    "# Converte a variável \"Survival\" para categórica\n",
    "titanic[\"Survival\"] = titanic[\"Survival\"].astype(\"category\")\n",
    "#utilizando a função de análise descritiva para uma variável categórica\n",
    "univariada_variavel_categoria(titanic, \"Survival\")"
   ]
  },
  {
   "cell_type": "markdown",
   "id": "11e7fda1",
   "metadata": {},
   "source": [
    "### <code style=\"color:purple\"> Atualizando a Atuação </code>\n",
    "    \n",
    "   Podemos ajustar nosso dicionário, com nossos novos aprendizados\n",
    "    \n",
    "| Variável  | Descrição   | Comentários   |\n",
    "| :------- | :-------- | :-------- |\n",
    "| Name   | Nome do Passageiro    |  |\n",
    "| Age   | Idade | Tem 263 missingins. Distribuição levemente assimétrica a direita. Tem relação linear com logito de p?| \n",
    "| Gender   | Sexo do passageiro | Não existe missing, temos mais homens do que mulheres, não tem classe com n muito pequeno. | \n",
    "| Class   | Classe no Navio | Não existe missing, transformei em caracter, são 3 classes. A classe 3 tem  o dobro das outras.|\n",
    "| Fare | Valor pago pela viagem | Tem 1 missing. Distribuição bem assimétrica a direita. Tem relação linear com logito de p? |\n",
    "| Survival | Marcação de quem sobreviveu (1) e quem não (0) | Não tem missing. Transformei em categórica. 61,80 % de mortes (0) e 38,20% de sobreviventes (1) |"
   ]
  },
  {
   "cell_type": "markdown",
   "id": "6141ee70",
   "metadata": {},
   "source": [
    "### <code style=\"color:green\"> Análise Bivariada das Variáveis</code>\n",
    "\n",
    "Vamos explorar a relação entre as variáveis?\n",
    "Alumas perguntas que podemos responder:\n",
    "\n",
    "- Existe uma relação linear entre Age e Fare, com o logito de p?\n",
    "- Se existe missing, o que fazer com eles?\n",
    "- Existe relação entre Fare e Class? Será que as médias são diferentes? (se forem, precisamos colocar as duas no modelo?)\n",
    "- Como é a distribuição do Gender, Age e Class por Survival?\n",
    "\n",
    "<code style=\"color:purple\">1) Começando pela idade</code>"
   ]
  },
  {
   "cell_type": "code",
   "execution_count": 11,
   "id": "fbb46ce7",
   "metadata": {},
   "outputs": [
    {
     "name": "stderr",
     "output_type": "stream",
     "text": [
      "C:\\Users\\adria\\AppData\\Local\\Temp\\ipykernel_16596\\665608711.py:21: FutureWarning: The default of observed=False is deprecated and will be changed to True in a future version of pandas. Pass observed=False to retain current behavior or observed=True to adopt the future default and silence this warning.\n",
      "  idade_sum_sm = df_age_cm.groupby('percentil_idade').agg(\n"
     ]
    },
    {
     "data": {
      "text/html": [
       "<div>\n",
       "<style scoped>\n",
       "    .dataframe tbody tr th:only-of-type {\n",
       "        vertical-align: middle;\n",
       "    }\n",
       "\n",
       "    .dataframe tbody tr th {\n",
       "        vertical-align: top;\n",
       "    }\n",
       "\n",
       "    .dataframe thead th {\n",
       "        text-align: right;\n",
       "    }\n",
       "</style>\n",
       "<table border=\"1\" class=\"dataframe\">\n",
       "  <thead>\n",
       "    <tr style=\"text-align: right;\">\n",
       "      <th></th>\n",
       "      <th>percentil_idade</th>\n",
       "      <th>n</th>\n",
       "      <th>min_age</th>\n",
       "      <th>max_age</th>\n",
       "      <th>mean_survival</th>\n",
       "      <th>logito_p</th>\n",
       "    </tr>\n",
       "  </thead>\n",
       "  <tbody>\n",
       "    <tr>\n",
       "      <th>0</th>\n",
       "      <td>10</td>\n",
       "      <td>131</td>\n",
       "      <td>0.0</td>\n",
       "      <td>16.0</td>\n",
       "      <td>0.557252</td>\n",
       "      <td>0.230016</td>\n",
       "    </tr>\n",
       "    <tr>\n",
       "      <th>1</th>\n",
       "      <td>20</td>\n",
       "      <td>131</td>\n",
       "      <td>16.0</td>\n",
       "      <td>21.0</td>\n",
       "      <td>0.358779</td>\n",
       "      <td>-0.580669</td>\n",
       "    </tr>\n",
       "    <tr>\n",
       "      <th>2</th>\n",
       "      <td>30</td>\n",
       "      <td>131</td>\n",
       "      <td>21.0</td>\n",
       "      <td>24.0</td>\n",
       "      <td>0.381679</td>\n",
       "      <td>-0.482426</td>\n",
       "    </tr>\n",
       "    <tr>\n",
       "      <th>3</th>\n",
       "      <td>40</td>\n",
       "      <td>131</td>\n",
       "      <td>24.0</td>\n",
       "      <td>28.0</td>\n",
       "      <td>0.351145</td>\n",
       "      <td>-0.614010</td>\n",
       "    </tr>\n",
       "    <tr>\n",
       "      <th>4</th>\n",
       "      <td>50</td>\n",
       "      <td>131</td>\n",
       "      <td>28.0</td>\n",
       "      <td>32.0</td>\n",
       "      <td>0.404580</td>\n",
       "      <td>-0.386417</td>\n",
       "    </tr>\n",
       "    <tr>\n",
       "      <th>5</th>\n",
       "      <td>60</td>\n",
       "      <td>131</td>\n",
       "      <td>32.0</td>\n",
       "      <td>39.0</td>\n",
       "      <td>0.427481</td>\n",
       "      <td>-0.292136</td>\n",
       "    </tr>\n",
       "    <tr>\n",
       "      <th>6</th>\n",
       "      <td>70</td>\n",
       "      <td>131</td>\n",
       "      <td>39.0</td>\n",
       "      <td>48.0</td>\n",
       "      <td>0.351145</td>\n",
       "      <td>-0.614010</td>\n",
       "    </tr>\n",
       "    <tr>\n",
       "      <th>7</th>\n",
       "      <td>80</td>\n",
       "      <td>129</td>\n",
       "      <td>48.0</td>\n",
       "      <td>80.0</td>\n",
       "      <td>0.435115</td>\n",
       "      <td>-0.261014</td>\n",
       "    </tr>\n",
       "    <tr>\n",
       "      <th>8</th>\n",
       "      <td>90</td>\n",
       "      <td>0</td>\n",
       "      <td>NaN</td>\n",
       "      <td>NaN</td>\n",
       "      <td>0.282443</td>\n",
       "      <td>-0.932377</td>\n",
       "    </tr>\n",
       "    <tr>\n",
       "      <th>9</th>\n",
       "      <td>100</td>\n",
       "      <td>0</td>\n",
       "      <td>NaN</td>\n",
       "      <td>NaN</td>\n",
       "      <td>0.269231</td>\n",
       "      <td>-0.998529</td>\n",
       "    </tr>\n",
       "  </tbody>\n",
       "</table>\n",
       "</div>"
      ],
      "text/plain": [
       "  percentil_idade    n  min_age  max_age  mean_survival  logito_p\n",
       "0              10  131      0.0     16.0       0.557252  0.230016\n",
       "1              20  131     16.0     21.0       0.358779 -0.580669\n",
       "2              30  131     21.0     24.0       0.381679 -0.482426\n",
       "3              40  131     24.0     28.0       0.351145 -0.614010\n",
       "4              50  131     28.0     32.0       0.404580 -0.386417\n",
       "5              60  131     32.0     39.0       0.427481 -0.292136\n",
       "6              70  131     39.0     48.0       0.351145 -0.614010\n",
       "7              80  129     48.0     80.0       0.435115 -0.261014\n",
       "8              90    0      NaN      NaN       0.282443 -0.932377\n",
       "9             100    0      NaN      NaN       0.269231 -0.998529"
      ]
     },
     "execution_count": 11,
     "metadata": {},
     "output_type": "execute_result"
    },
    {
     "data": {
      "image/png": "[encoded data removed]",
      "text/plain": [
       "<Figure size 640x480 with 1 Axes>"
      ]
     },
     "metadata": {},
     "output_type": "display_data"
    }
   ],
   "source": [
    "# começarei verificando a linearidade entre Age e logito de p\n",
    "\n",
    "# criando uma copia para manipular o que importa\n",
    "df_age_cm = titanic[['Survival', 'Age']].copy()\n",
    "# ordenando pela Idade\n",
    "df_age_cm = df_age_cm.sort_values(\"Age\").reset_index()\n",
    "# criando uma variavel com o n_total da base\n",
    "n_total = df_age_cm['Survival'].count()\n",
    "# criando a variavel percentil da idade, de 10 em 10 %\n",
    "df_age_cm['percentil_idade']=pd.cut(\n",
    "   df_age_cm.index,\n",
    "   bins=[-1, (n_total/10), (n_total/10)*2, (n_total/10)*3, (n_total/10)*4, (n_total/10)*5, (n_total/10)*6, \n",
    "         (n_total/10)*7, (n_total/10)*8, (n_total/10)*9, sys.maxsize],\n",
    "   labels=['10', '20', '30', '40', '50', '60', '70', '80', '90', '100']\n",
    ")\n",
    "\n",
    "# Certificar-se de que a variável y está no formato numérico\n",
    "df_age_cm[\"Survival\"] = pd.to_numeric(df_age_cm[\"Survival\"], errors='coerce')\n",
    "\n",
    "# Adicionando cálculo de n, min_age, max_age, média de survival e logito_p\n",
    "idade_sum_sm = df_age_cm.groupby('percentil_idade').agg(\n",
    "    n=('Age', 'count'),                     # Número de linhas\n",
    "    min_age=('Age', 'min'),                 # Mínimo de Age\n",
    "    max_age=('Age', 'max'),                 # Máximo de Age\n",
    "    mean_survival=('Survival', 'mean')      # Média de Survival\n",
    ").reset_index()\n",
    "\n",
    "# Calculando logito_p\n",
    "epsilon = 1e-10  # Para evitar 0 e 1\n",
    "idade_sum_sm['logito_p'] = np.log(np.clip(idade_sum_sm['mean_survival'], epsilon, 1 - epsilon) / \n",
    "                                  (1 - np.clip(idade_sum_sm['mean_survival'], epsilon, 1 - epsilon)))\n",
    "\n",
    "# Exibindo a tabela resultante\n",
    "idade_sum_sm\n",
    "\n",
    "# fazendo o gráfico de dispersão para p\n",
    "sns.scatterplot(x=\"percentil_idade\",y=\"mean_survival\",data=idade_sum_sm)\n",
    "idade_sum_sm"
   ]
  },
  {
   "cell_type": "code",
   "execution_count": 12,
   "id": "64b570cf-df02-4e4f-8ef7-9f613c4145d8",
   "metadata": {},
   "outputs": [
    {
     "data": {
      "text/plain": [
       "<AxesSubplot:xlabel='percentil_idade', ylabel='logito_p'>"
      ]
     },
     "execution_count": 12,
     "metadata": {},
     "output_type": "execute_result"
    },
    {
     "data": {
      "image/png": "[encoded data removed]",
      "text/plain": [
       "<Figure size 640x480 with 1 Axes>"
      ]
     },
     "metadata": {},
     "output_type": "display_data"
    }
   ],
   "source": [
    "sns.scatterplot(x=\"percentil_idade\",y=\"logito_p\",data=idade_sum_sm)"
   ]
  },
  {
   "cell_type": "markdown",
   "id": "89091a10",
   "metadata": {},
   "source": [
    "### <code style=\"color:purple\">COMENTÁRIOS:</code>\n",
    "\n",
    "Como visto, a taxa de resposta de até 16 anos é diferente das demais.\n",
    "Notamos também que os dados faltantes estão com taxa de resposta parecida. Pensando nisso, decidimos agrupar a idade em 3 grupos (variável: `Age`):\n",
    "\n",
    "- **Menor_16**\n",
    "- **Maior_16**\n",
    "- **Sem_idade**"
   ]
  },
  {
   "cell_type": "code",
   "execution_count": 13,
   "id": "7cc7b1f5",
   "metadata": {},
   "outputs": [
    {
     "data": {
      "text/html": [
       "<div>\n",
       "<style scoped>\n",
       "    .dataframe tbody tr th:only-of-type {\n",
       "        vertical-align: middle;\n",
       "    }\n",
       "\n",
       "    .dataframe tbody tr th {\n",
       "        vertical-align: top;\n",
       "    }\n",
       "\n",
       "    .dataframe thead th {\n",
       "        text-align: right;\n",
       "    }\n",
       "</style>\n",
       "<table border=\"1\" class=\"dataframe\">\n",
       "  <thead>\n",
       "    <tr style=\"text-align: right;\">\n",
       "      <th></th>\n",
       "      <th>Name</th>\n",
       "      <th>Age</th>\n",
       "      <th>Gender</th>\n",
       "      <th>Class</th>\n",
       "      <th>Fare</th>\n",
       "      <th>Survival</th>\n",
       "      <th>Age_C</th>\n",
       "    </tr>\n",
       "  </thead>\n",
       "  <tbody>\n",
       "    <tr>\n",
       "      <th>0</th>\n",
       "      <td>Allen, Miss. Elisabeth Walton</td>\n",
       "      <td>29.0</td>\n",
       "      <td>Female</td>\n",
       "      <td>1.0</td>\n",
       "      <td>211.34</td>\n",
       "      <td>1.0</td>\n",
       "      <td>Maior_16</td>\n",
       "    </tr>\n",
       "    <tr>\n",
       "      <th>1</th>\n",
       "      <td>Allison, Master. Hudson Trevor</td>\n",
       "      <td>1.0</td>\n",
       "      <td>Male</td>\n",
       "      <td>1.0</td>\n",
       "      <td>151.55</td>\n",
       "      <td>1.0</td>\n",
       "      <td>Menor_16</td>\n",
       "    </tr>\n",
       "    <tr>\n",
       "      <th>2</th>\n",
       "      <td>Allison, Miss. Helen Loraine</td>\n",
       "      <td>2.0</td>\n",
       "      <td>Female</td>\n",
       "      <td>1.0</td>\n",
       "      <td>151.55</td>\n",
       "      <td>0.0</td>\n",
       "      <td>Menor_16</td>\n",
       "    </tr>\n",
       "    <tr>\n",
       "      <th>3</th>\n",
       "      <td>Allison, Mr. Hudson Joshua Creighton</td>\n",
       "      <td>30.0</td>\n",
       "      <td>Male</td>\n",
       "      <td>1.0</td>\n",
       "      <td>151.55</td>\n",
       "      <td>0.0</td>\n",
       "      <td>Maior_16</td>\n",
       "    </tr>\n",
       "    <tr>\n",
       "      <th>4</th>\n",
       "      <td>Allison, Mrs. Hudson J C (Bessie Waldo Daniels)</td>\n",
       "      <td>25.0</td>\n",
       "      <td>Female</td>\n",
       "      <td>1.0</td>\n",
       "      <td>151.55</td>\n",
       "      <td>0.0</td>\n",
       "      <td>Maior_16</td>\n",
       "    </tr>\n",
       "    <tr>\n",
       "      <th>...</th>\n",
       "      <td>...</td>\n",
       "      <td>...</td>\n",
       "      <td>...</td>\n",
       "      <td>...</td>\n",
       "      <td>...</td>\n",
       "      <td>...</td>\n",
       "      <td>...</td>\n",
       "    </tr>\n",
       "    <tr>\n",
       "      <th>1304</th>\n",
       "      <td>Zabour, Miss. Hileni</td>\n",
       "      <td>15.0</td>\n",
       "      <td>Female</td>\n",
       "      <td>3.0</td>\n",
       "      <td>14.45</td>\n",
       "      <td>0.0</td>\n",
       "      <td>Menor_16</td>\n",
       "    </tr>\n",
       "    <tr>\n",
       "      <th>1305</th>\n",
       "      <td>Zabour, Miss. Thamine</td>\n",
       "      <td>NaN</td>\n",
       "      <td>Female</td>\n",
       "      <td>3.0</td>\n",
       "      <td>14.45</td>\n",
       "      <td>0.0</td>\n",
       "      <td>Sem_idade</td>\n",
       "    </tr>\n",
       "    <tr>\n",
       "      <th>1306</th>\n",
       "      <td>Zakarian, Mr. Mapriededer</td>\n",
       "      <td>27.0</td>\n",
       "      <td>Male</td>\n",
       "      <td>3.0</td>\n",
       "      <td>7.23</td>\n",
       "      <td>0.0</td>\n",
       "      <td>Maior_16</td>\n",
       "    </tr>\n",
       "    <tr>\n",
       "      <th>1307</th>\n",
       "      <td>Zakarian, Mr. Ortin</td>\n",
       "      <td>27.0</td>\n",
       "      <td>Male</td>\n",
       "      <td>3.0</td>\n",
       "      <td>7.23</td>\n",
       "      <td>0.0</td>\n",
       "      <td>Maior_16</td>\n",
       "    </tr>\n",
       "    <tr>\n",
       "      <th>1308</th>\n",
       "      <td>Zimmerman, Mr. Leo</td>\n",
       "      <td>29.0</td>\n",
       "      <td>Male</td>\n",
       "      <td>3.0</td>\n",
       "      <td>7.88</td>\n",
       "      <td>0.0</td>\n",
       "      <td>Maior_16</td>\n",
       "    </tr>\n",
       "  </tbody>\n",
       "</table>\n",
       "<p>1309 rows × 7 columns</p>\n",
       "</div>"
      ],
      "text/plain": [
       "                                                 Name   Age  Gender Class  \\\n",
       "0                       Allen, Miss. Elisabeth Walton  29.0  Female   1.0   \n",
       "1                      Allison, Master. Hudson Trevor   1.0    Male   1.0   \n",
       "2                        Allison, Miss. Helen Loraine   2.0  Female   1.0   \n",
       "3                Allison, Mr. Hudson Joshua Creighton  30.0    Male   1.0   \n",
       "4     Allison, Mrs. Hudson J C (Bessie Waldo Daniels)  25.0  Female   1.0   \n",
       "...                                               ...   ...     ...   ...   \n",
       "1304                             Zabour, Miss. Hileni  15.0  Female   3.0   \n",
       "1305                            Zabour, Miss. Thamine   NaN  Female   3.0   \n",
       "1306                        Zakarian, Mr. Mapriededer  27.0    Male   3.0   \n",
       "1307                              Zakarian, Mr. Ortin  27.0    Male   3.0   \n",
       "1308                               Zimmerman, Mr. Leo  29.0    Male   3.0   \n",
       "\n",
       "        Fare Survival      Age_C  \n",
       "0     211.34      1.0   Maior_16  \n",
       "1     151.55      1.0   Menor_16  \n",
       "2     151.55      0.0   Menor_16  \n",
       "3     151.55      0.0   Maior_16  \n",
       "4     151.55      0.0   Maior_16  \n",
       "...      ...      ...        ...  \n",
       "1304   14.45      0.0   Menor_16  \n",
       "1305   14.45      0.0  Sem_idade  \n",
       "1306    7.23      0.0   Maior_16  \n",
       "1307    7.23      0.0   Maior_16  \n",
       "1308    7.88      0.0   Maior_16  \n",
       "\n",
       "[1309 rows x 7 columns]"
      ]
     },
     "execution_count": 13,
     "metadata": {},
     "output_type": "execute_result"
    }
   ],
   "source": [
    "#criando o agrupamento\n",
    "titanic['Age_C'] = pd.cut(\n",
    "    titanic['Age'],\n",
    "    bins=[-float('inf'), 17, float('inf')],\n",
    "    labels=['Menor_16', 'Maior_16'],\n",
    "    ordered=False\n",
    ") # criando a variável categórica para identificar se é menor de 16 anos ou maior\n",
    "\n",
    "# atualizando a variável categórica para incluir as pessoas que não tem idade\n",
    "titanic['Age_C'] = np.where(titanic['Age_C'].isna(), 'Sem_idade', titanic['Age_C'].astype(str)) \n",
    "titanic"
   ]
  },
  {
   "cell_type": "code",
   "execution_count": 14,
   "id": "29a43962",
   "metadata": {},
   "outputs": [
    {
     "data": {
      "text/html": [
       "<div>\n",
       "<style scoped>\n",
       "    .dataframe tbody tr th:only-of-type {\n",
       "        vertical-align: middle;\n",
       "    }\n",
       "\n",
       "    .dataframe tbody tr th {\n",
       "        vertical-align: top;\n",
       "    }\n",
       "\n",
       "    .dataframe thead th {\n",
       "        text-align: right;\n",
       "    }\n",
       "</style>\n",
       "<table border=\"1\" class=\"dataframe\">\n",
       "  <thead>\n",
       "    <tr style=\"text-align: right;\">\n",
       "      <th></th>\n",
       "      <th>n</th>\n",
       "      <th>tx_resposta</th>\n",
       "    </tr>\n",
       "    <tr>\n",
       "      <th>Age_C</th>\n",
       "      <th></th>\n",
       "      <th></th>\n",
       "    </tr>\n",
       "  </thead>\n",
       "  <tbody>\n",
       "    <tr>\n",
       "      <th>Maior_16</th>\n",
       "      <td>892</td>\n",
       "      <td>0.387892</td>\n",
       "    </tr>\n",
       "    <tr>\n",
       "      <th>Menor_16</th>\n",
       "      <td>154</td>\n",
       "      <td>0.525974</td>\n",
       "    </tr>\n",
       "    <tr>\n",
       "      <th>Sem_idade</th>\n",
       "      <td>263</td>\n",
       "      <td>0.277567</td>\n",
       "    </tr>\n",
       "  </tbody>\n",
       "</table>\n",
       "</div>"
      ],
      "text/plain": [
       "             n  tx_resposta\n",
       "Age_C                      \n",
       "Maior_16   892     0.387892\n",
       "Menor_16   154     0.525974\n",
       "Sem_idade  263     0.277567"
      ]
     },
     "execution_count": 14,
     "metadata": {},
     "output_type": "execute_result"
    }
   ],
   "source": [
    "# verificando a quantidade e taxa de resposta no grupo\n",
    "\n",
    "# Certificar-se de que a variável y está no formato numérico\n",
    "titanic[\"Survival\"] = pd.to_numeric(titanic[\"Survival\"], errors='coerce')\n",
    "\n",
    "titanic.groupby('Age_C').agg(\n",
    "    n = ('Survival','count'),\n",
    "    tx_resposta = ('Survival','mean')\n",
    ")"
   ]
  },
  {
   "cell_type": "markdown",
   "id": "60a7055e",
   "metadata": {},
   "source": [
    "<code style=\"color:purple\">1) Conclusão da idade</code>\n",
    "\n",
    "Essa nova variável foi criada, pois como pudermos ver, a variável Age não tinha uma relação linear com o logito de p.   \n",
    "Decidimos categorizar em 3 grupos, visto o momento da taxa de resposta observada por percentis da idade.   \n",
    "Escolheu-se por agrupar os \"sem idade\" (nan), pois tinham uma taxa diferente dos outros 2 grupos.   \n",
    "\n",
    "<code style=\"color:purple\">Atualizando o dicionário de dados:</code>\n",
    "\n",
    "| Variável  | Descrição   | Comentários   |\n",
    "| :------- | :-------- | :-------- |\n",
    "| Name   | Nome do Passageiro    |  |\n",
    "| Idade   | Faixa de Idade | Não tem missing, são 3 grupos com taxas de respostas bem diferentes.| \n",
    "| Gender   | Sexo do passageiro | Não existe missing, temos mais homens do que mulheres, não tem classe com n muito pequeno. | \n",
    "| Class   | Classe no Navio | Não existe missing, transformei em caracter, são 3 classes. A classe 3 tem  o dobro das outras.|\n",
    "| Fare | Valor pago pela viagem | Tem 1 missing. Distribuição bem assimétrica a direita. Tem relação linear com o logito de p? |\n",
    "| Survival | Marcação de quem sobreviveu (1) e quem não (0) | Não tem missing. Transformei em categórica. 61,80 % de mortes (0) e 38,20% de sobreviventes (1) |\n",
    "\n",
    "\n",
    "<code style=\"color:purple\">Voltando à análise:</code>\n",
    "\n",
    "Vamos explorar a relação entre as variáveis?\n",
    "Alumas perguntas que podemos responder:\n",
    "\n",
    "- Existe uma relação linear entre Age e Fare, com o logito de p?\n",
    "- Se existe missing, o que fazer com eles?\n",
    "\n",
    "<code style=\"color:purple\">2) Partindo para Fare</code>\n",
    "\n",
    "Faremos as mesmas análises, mas agora utilizarei a função pronta"
   ]
  },
  {
   "cell_type": "code",
   "execution_count": 15,
   "id": "6599264e",
   "metadata": {},
   "outputs": [
    {
     "name": "stderr",
     "output_type": "stream",
     "text": [
      "C:\\Users\\adria\\AppData\\Local\\Temp\\ipykernel_16596\\2119855495.py:2: FutureWarning: A value is trying to be set on a copy of a DataFrame or Series through chained assignment using an inplace method.\n",
      "The behavior will change in pandas 3.0. This inplace method will never work because the intermediate object on which we are setting values always behaves as a copy.\n",
      "\n",
      "For example, when doing 'df[col].method(value, inplace=True)', try using 'df.method({col: value}, inplace=True)' or df[col] = df[col].method(value) instead, to perform the operation inplace on the original object.\n",
      "\n",
      "\n",
      "  titanic['Fare'].fillna(0, inplace=True)\n",
      "C:\\Users\\adria\\Documents\\1_Scripts_Python\\IDA_organizado\\4_Regressao_Logistica\\gravar\\funcoes_importantes_regressao_logistica.py:681: FutureWarning: The default of observed=False is deprecated and will be changed to True in a future version of pandas. Pass observed=False to retain current behavior or observed=True to adopt the future default and silence this warning.\n",
      "  summary = data.groupby('percentil').agg(\n"
     ]
    },
    {
     "data": {
      "text/plain": [
       "<Figure size 1200x600 with 0 Axes>"
      ]
     },
     "metadata": {},
     "output_type": "display_data"
    },
    {
     "data": {
      "image/png": "[encoded data removed]",
      "text/plain": [
       "<Figure size 1600x600 with 2 Axes>"
      ]
     },
     "metadata": {},
     "output_type": "display_data"
    },
    {
     "data": {
      "text/html": [
       "<div>\n",
       "<style scoped>\n",
       "    .dataframe tbody tr th:only-of-type {\n",
       "        vertical-align: middle;\n",
       "    }\n",
       "\n",
       "    .dataframe tbody tr th {\n",
       "        vertical-align: top;\n",
       "    }\n",
       "\n",
       "    .dataframe thead th {\n",
       "        text-align: right;\n",
       "    }\n",
       "</style>\n",
       "<table border=\"1\" class=\"dataframe\">\n",
       "  <thead>\n",
       "    <tr style=\"text-align: right;\">\n",
       "      <th></th>\n",
       "      <th>percentil</th>\n",
       "      <th>n</th>\n",
       "      <th>min_x</th>\n",
       "      <th>max_x</th>\n",
       "      <th>p</th>\n",
       "      <th>logito_p</th>\n",
       "    </tr>\n",
       "  </thead>\n",
       "  <tbody>\n",
       "    <tr>\n",
       "      <th>0</th>\n",
       "      <td>1</td>\n",
       "      <td>132</td>\n",
       "      <td>0.00</td>\n",
       "      <td>7.55</td>\n",
       "      <td>0.181818</td>\n",
       "      <td>-1.504077</td>\n",
       "    </tr>\n",
       "    <tr>\n",
       "      <th>1</th>\n",
       "      <td>2</td>\n",
       "      <td>144</td>\n",
       "      <td>7.58</td>\n",
       "      <td>7.85</td>\n",
       "      <td>0.326389</td>\n",
       "      <td>-0.724563</td>\n",
       "    </tr>\n",
       "    <tr>\n",
       "      <th>2</th>\n",
       "      <td>3</td>\n",
       "      <td>146</td>\n",
       "      <td>7.88</td>\n",
       "      <td>8.05</td>\n",
       "      <td>0.171233</td>\n",
       "      <td>-1.576915</td>\n",
       "    </tr>\n",
       "    <tr>\n",
       "      <th>3</th>\n",
       "      <td>4</td>\n",
       "      <td>108</td>\n",
       "      <td>8.11</td>\n",
       "      <td>10.50</td>\n",
       "      <td>0.240741</td>\n",
       "      <td>-1.148623</td>\n",
       "    </tr>\n",
       "    <tr>\n",
       "      <th>4</th>\n",
       "      <td>5</td>\n",
       "      <td>128</td>\n",
       "      <td>10.52</td>\n",
       "      <td>14.45</td>\n",
       "      <td>0.359375</td>\n",
       "      <td>-0.578078</td>\n",
       "    </tr>\n",
       "    <tr>\n",
       "      <th>5</th>\n",
       "      <td>6</td>\n",
       "      <td>127</td>\n",
       "      <td>14.46</td>\n",
       "      <td>21.08</td>\n",
       "      <td>0.409449</td>\n",
       "      <td>-0.366244</td>\n",
       "    </tr>\n",
       "    <tr>\n",
       "      <th>6</th>\n",
       "      <td>7</td>\n",
       "      <td>131</td>\n",
       "      <td>21.68</td>\n",
       "      <td>26.55</td>\n",
       "      <td>0.458015</td>\n",
       "      <td>-0.168335</td>\n",
       "    </tr>\n",
       "    <tr>\n",
       "      <th>7</th>\n",
       "      <td>8</td>\n",
       "      <td>134</td>\n",
       "      <td>27.00</td>\n",
       "      <td>41.58</td>\n",
       "      <td>0.447761</td>\n",
       "      <td>-0.209721</td>\n",
       "    </tr>\n",
       "    <tr>\n",
       "      <th>8</th>\n",
       "      <td>9</td>\n",
       "      <td>128</td>\n",
       "      <td>42.40</td>\n",
       "      <td>77.96</td>\n",
       "      <td>0.500000</td>\n",
       "      <td>0.000000</td>\n",
       "    </tr>\n",
       "    <tr>\n",
       "      <th>9</th>\n",
       "      <td>10</td>\n",
       "      <td>131</td>\n",
       "      <td>78.27</td>\n",
       "      <td>512.33</td>\n",
       "      <td>0.732824</td>\n",
       "      <td>1.009000</td>\n",
       "    </tr>\n",
       "  </tbody>\n",
       "</table>\n",
       "</div>"
      ],
      "text/plain": [
       "  percentil    n  min_x   max_x         p  logito_p\n",
       "0         1  132   0.00    7.55  0.181818 -1.504077\n",
       "1         2  144   7.58    7.85  0.326389 -0.724563\n",
       "2         3  146   7.88    8.05  0.171233 -1.576915\n",
       "3         4  108   8.11   10.50  0.240741 -1.148623\n",
       "4         5  128  10.52   14.45  0.359375 -0.578078\n",
       "5         6  127  14.46   21.08  0.409449 -0.366244\n",
       "6         7  131  21.68   26.55  0.458015 -0.168335\n",
       "7         8  134  27.00   41.58  0.447761 -0.209721\n",
       "8         9  128  42.40   77.96  0.500000  0.000000\n",
       "9        10  131  78.27  512.33  0.732824  1.009000"
      ]
     },
     "execution_count": 15,
     "metadata": {},
     "output_type": "execute_result"
    }
   ],
   "source": [
    "#sabemos que esta variável tem um missing, e como sabemos que é o dono do barco, vou imputar Fare=0 neste caso (decisão baseada no contexto)\n",
    "titanic['Fare'].fillna(0, inplace=True)\n",
    "# utilizando a função pronta para verificar o comportamento do logito de p.\n",
    "#Ou seja, ordena o x, cria percentis, calcula p e o logito de p, além de fazer o gráfico.\n",
    "#Essa função ignora os valores faltantes, e ela faz a divisão por percentis pensando nos valores repetidos do x.\n",
    "#Ou seja, podem existir percentis com volumes diferentes, pois o corte está sendo realizado nos valores de x.\n",
    "\n",
    "analise_var_numerica_por_percentil(titanic, 'Fare', 'Survival', q=10, grafico='ambos')"
   ]
  },
  {
   "cell_type": "markdown",
   "id": "b40a26e0",
   "metadata": {},
   "source": [
    "<code style=\"color:purple\">2) Seguindo com Fare</code>\n",
    "\n",
    "Como podemos ver, essa sim tem uma relação linear com o logito de p, ou seja, pode ser utilizada como número no modelo!\n",
    "No entanto, me surge a curiosidade de que Fare e a variável Class sejam a mesma coisa!!!\n",
    "\n",
    "Vamos verificar como é a distribuição da Fare para cada uma das classes (variável: Class)\n"
   ]
  },
  {
   "cell_type": "code",
   "execution_count": 16,
   "id": "fbb98846",
   "metadata": {},
   "outputs": [
    {
     "data": {
      "text/plain": [
       "<AxesSubplot:xlabel='Class', ylabel='Fare'>"
      ]
     },
     "execution_count": 16,
     "metadata": {},
     "output_type": "execute_result"
    },
    {
     "data": {
      "image/png": "[encoded data removed]",
      "text/plain": [
       "<Figure size 640x480 with 1 Axes>"
      ]
     },
     "metadata": {},
     "output_type": "display_data"
    }
   ],
   "source": [
    "#Relacao de Survival com a variavel numerica Fare\n",
    "sns.boxplot(x=\"Class\", y=\"Fare\", data=titanic)"
   ]
  },
  {
   "cell_type": "markdown",
   "id": "c54b4348",
   "metadata": {},
   "source": [
    "### <code style=\"color:purple\">COMENTÁRIOS:</code>\n",
    "\n",
    "\n",
    "- Olhando o boxplot podemos ver que que a variabilidade é diferente para cada uma das classes!\n",
    "\n",
    "- Vamos fazer um gráfico de densidade para poder observar a distribuição"
   ]
  },
  {
   "cell_type": "code",
   "execution_count": 17,
   "id": "6a284554",
   "metadata": {},
   "outputs": [
    {
     "data": {
      "image/png": "[encoded data removed]",
      "text/plain": [
       "<Figure size 872.125x1200 with 3 Axes>"
      ]
     },
     "metadata": {},
     "output_type": "display_data"
    }
   ],
   "source": [
    "#grafico de densidade para cada Classe\n",
    "g = sns.FacetGrid(titanic, col=\"Class\", col_wrap=1,hue = 'Class', height=4, aspect=2)\n",
    "g.map(sns.kdeplot, \"Fare\", fill=True, alpha=0.5)\n",
    "\n",
    "# Ajustar o layout\n",
    "g.add_legend()\n",
    "plt.show()"
   ]
  },
  {
   "cell_type": "markdown",
   "id": "c8ce3c96",
   "metadata": {},
   "source": [
    "### <code style=\"color:purple\">COMENTÁRIOS:</code>\n",
    "\n",
    "- Realmente parece que as médias são diferentes e lembre que se as médias são diferentes é porque existe algum tipo de associação!\n",
    "\n",
    "- Vamos fazer a anova e depois o teste t para verificar, mas antes precisamos validar a normalidade (o que não parece ser)"
   ]
  },
  {
   "cell_type": "code",
   "execution_count": 18,
   "id": "389e4d96",
   "metadata": {},
   "outputs": [
    {
     "name": "stdout",
     "output_type": "stream",
     "text": [
      "Valor-p teste normalidade class 1: 5.82082666598652e-22\n",
      "Valor-p teste normalidade class 2: 3.257721222684423e-19\n",
      "Valor-p teste normalidade class 3: 1.1344407912545618e-37\n"
     ]
    }
   ],
   "source": [
    "# Shapiro - teste de normalidade para cada Classe\n",
    "# H0: a distribuição é normal\n",
    "# H1: a distribuição não é normal\n",
    "estatistica_class_1, p_valor_class_1 = stats.shapiro(titanic[titanic['Class'] == 1.0]['Fare'])\n",
    "estatistica_class_2, p_valor_class_2 = stats.shapiro(titanic[titanic['Class'] == 2.0]['Fare'])\n",
    "estatistica_class_3, p_valor_class_3 = stats.shapiro(titanic[titanic['Class'] == 3.0]['Fare'])\n",
    "\n",
    "print('Valor-p teste normalidade class 1:', p_valor_class_1)\n",
    "print('Valor-p teste normalidade class 2:', p_valor_class_2)\n",
    "print('Valor-p teste normalidade class 3:', p_valor_class_3)"
   ]
  },
  {
   "cell_type": "markdown",
   "id": "92926f15",
   "metadata": {},
   "source": [
    "### <code style=\"color:purple\">COMENTÁRIOS:</code>\n",
    "\n",
    "- Como não é normal (nenhuma delas), não poderiamos usar a ANOVA, então vamos usar o teste Kruskal Wallis!\n",
    "- Lembre-se que temos uma observação faltante em Fare! E o teste de Kruskal Wallis no Python não permite que tenha dados faltantes!\n",
    "- Nesse caso vamos imputar essa observação pela Média do seu Class!"
   ]
  },
  {
   "cell_type": "code",
   "execution_count": 19,
   "id": "222e12dc",
   "metadata": {},
   "outputs": [
    {
     "name": "stdout",
     "output_type": "stream",
     "text": [
      "Estatística do teste: 676.2847853975237\n",
      "Valor-p: 1.4016021446779482e-147\n"
     ]
    }
   ],
   "source": [
    "# Aplicar o teste de Kruskal-Wallis\n",
    "# H0: mediana_class1 = mediana_class2 = mediana_class3\n",
    "# H1: pelo menos 1 diferente  \n",
    "estatistica, p_valor = stats.kruskal(titanic[titanic['Class'] == 1.0]['Fare'],\n",
    "                        titanic[titanic['Class'] == 2.0]['Fare'],\n",
    "                        titanic[titanic['Class'] == 3.0]['Fare']\n",
    "                       )\n",
    "\n",
    "print(f'Estatística do teste: {estatistica}')\n",
    "print(f'Valor-p: {p_valor}')"
   ]
  },
  {
   "cell_type": "markdown",
   "id": "f9deb313",
   "metadata": {},
   "source": [
    "### <code style=\"color:purple\">COMENTÁRIOS:</code>\n",
    "\n",
    "- Rejeitamos $H_{0}$, ou seja, pelo menos uma das medianas são diferentes!\n",
    " \n",
    "- Vamos verificar o teste de Mann-Whitney de comparação de médias entre class 1 com a 2"
   ]
  },
  {
   "cell_type": "code",
   "execution_count": 20,
   "id": "322c2d2d",
   "metadata": {},
   "outputs": [
    {
     "name": "stdout",
     "output_type": "stream",
     "text": [
      "Estatística do teste: 81640.0\n",
      "Valor-p: 3.467209960390082e-68\n"
     ]
    }
   ],
   "source": [
    "# vamos verificar o teste de Mann-Whitney de comparação de médias entre class 1 com a 2\n",
    "# H0: mediana_class1 - mediana_class2 = 0\n",
    "# H1: mediana_class1 - mediana_class2 <> 0\n",
    "estatistica, p_valor = stats.mannwhitneyu(titanic['Fare'][titanic['Class'] == 1.0],\n",
    "                                          titanic['Fare'][titanic['Class'] == 2.0], alternative='two-sided')\n",
    "\n",
    "print(f'Estatística do teste: {estatistica}')\n",
    "print(f'Valor-p: {p_valor}')\n"
   ]
  },
  {
   "cell_type": "markdown",
   "id": "c2859160",
   "metadata": {},
   "source": [
    "### <code style=\"color:purple\">COMENTÁRIOS:</code>\n",
    "\n",
    "- Rejeitamos $H_{0}$, ou seja, as medianas são diferentes!\n",
    "- Vamos verificar o teste de Mann-Whitney de comparação de médias entre class 1 com a 3"
   ]
  },
  {
   "cell_type": "code",
   "execution_count": 21,
   "id": "7a281aaf",
   "metadata": {},
   "outputs": [
    {
     "name": "stdout",
     "output_type": "stream",
     "text": [
      "Estatística do teste: 216827.5\n",
      "Valor-p: 1.3734193401809274e-117\n"
     ]
    }
   ],
   "source": [
    "# vamos verificar o teste de Mann-Whitney de comparação de médias entre class 1 com a 3\n",
    "# H0: mediana_class1 - mediana_class3 = 0\n",
    "# H1: mediana_class1 - mediana_class3 <> 0\n",
    "estatistica, p_valor = stats.mannwhitneyu(titanic['Fare'][titanic['Class'] == 1.0],\n",
    "                                          titanic['Fare'][titanic['Class'] == 3.0], alternative='two-sided')\n",
    "\n",
    "print(f'Estatística do teste: {estatistica}')\n",
    "print(f'Valor-p: {p_valor}')\n"
   ]
  },
  {
   "cell_type": "markdown",
   "id": "2950f5e9",
   "metadata": {},
   "source": [
    "### <code style=\"color:purple\">COMENTÁRIOS:</code>\n",
    "\n",
    "- Rejeitamos $H_{0}$, ou seja, as medianas são diferentes!\n",
    "- Vamos verificar o teste de Mann-Whitney de comparação de médias entre class 2 com a 3"
   ]
  },
  {
   "cell_type": "code",
   "execution_count": 22,
   "id": "ad2960b9",
   "metadata": {},
   "outputs": [
    {
     "name": "stdout",
     "output_type": "stream",
     "text": [
      "Estatística do teste: 154041.0\n",
      "Valor-p: 6.175620646084026e-44\n"
     ]
    }
   ],
   "source": [
    "# vamos verificar o teste de Mann-Whitney de comparação de médias entre class 2 com a 3\n",
    "# H0: mediana_class2 - mediana_class3 = 0\n",
    "# H1: mediana_class2 - mediana_class3 <> 0\n",
    "estatistica, p_valor = stats.mannwhitneyu(titanic['Fare'][titanic['Class'] == 2.0],\n",
    "                                          titanic['Fare'][titanic['Class'] == 3.0], alternative='two-sided')\n",
    "\n",
    "print(f'Estatística do teste: {estatistica}')\n",
    "print(f'Valor-p: {p_valor}')\n"
   ]
  },
  {
   "cell_type": "markdown",
   "id": "45473dc6",
   "metadata": {},
   "source": [
    "<code style=\"color:purple\">2) Conclusão da Fare</code>\n",
    "\n",
    "Como podemos ver, ela tem uma relação linear com o logito, podendo assim entrar no modelo como uma variável numérica! No entanto, fica claro que a variável Fare tem uma relação direta com a variável Class.\n",
    "\n",
    "Sendo assim, devemos ficar atentos a isso na hora de criar o modelo. As duas juntas pode se não ser uma boa opção!\n",
    "\n",
    "<code style=\"color:purple\">Atualizando o dicionário de dados:</code>\n",
    "\n",
    "| Variável  | Descrição   | Comentários   |\n",
    "| :------- | :-------- | :-------- |\n",
    "| Name   | Nome do Passageiro    |  |\n",
    "| Idade   | Faixa de Idade | Não tem missing, são 3 grupos com taxas de respostas bem diferentes.| \n",
    "| Gender   | Sexo do passageiro | Não existe missing, temos mais homens do que mulheres, não tem classe com n muito pequeno. | \n",
    "| Class   | Classe no Navio | Não existe missing, transformei em caracter, são 3 classes. A classe 3 tem  o dobro das outras.|\n",
    "| Fare | Valor da passagem | Tem uma relação linear com y, mas não deveria ser utilizada junto com Class |\n",
    "| Survival | Marcação de quem sobreviveu (1) e quem não (0) | Não tem missing. Transformei em categórica. 61,80 % de mortes (0) e 38,20% de sobreviventes (1) |\n",
    "\n",
    "\n",
    "<code style=\"color:purple\">Voltando à análise:</code>\n",
    "\n",
    "Vamos explorar a relação entre as variáveis?\n",
    "Alumas perguntas que podemos responder:\n",
    "\n",
    "- Como é a distribuição do Gender, Age e Class por Survival?\n",
    "\n",
    "<code style=\"color:purple\">3) Entendendo um pouco mais da relação entre as variáveis categóricas</code>\n",
    "\n",
    "Para visualizar comportamento das categóricas juntas, podemos estudar gráficos de barras e a estatística cramer´s V\n",
    "\n",
    "* <code style=\"color:purple\">Variável Class</code>"
   ]
  },
  {
   "cell_type": "code",
   "execution_count": 23,
   "id": "13d2b9ed",
   "metadata": {},
   "outputs": [
    {
     "data": {
      "text/plain": [
       "<AxesSubplot:xlabel='Class', ylabel='count'>"
      ]
     },
     "execution_count": 23,
     "metadata": {},
     "output_type": "execute_result"
    },
    {
     "data": {
      "image/png": "[encoded data removed]",
      "text/plain": [
       "<Figure size 640x480 with 1 Axes>"
      ]
     },
     "metadata": {},
     "output_type": "display_data"
    }
   ],
   "source": [
    "sns.countplot(data=titanic, x='Class', hue='Survival', dodge=True)"
   ]
  },
  {
   "cell_type": "markdown",
   "id": "feb654a7",
   "metadata": {},
   "source": [
    "### <code style=\"color:purple\">COMENTÁRIOS:</code>\n",
    "\n",
    "- Veja que a maioria dos tripulantes que morreram são das terceira classe!\n",
    "- Existe inversão de barras conforme a classe, o que demonstra que essa variável pode ser muito interessante\n",
    "- Vamos calcular o qui-quadrado e Cramer´s V"
   ]
  },
  {
   "cell_type": "code",
   "execution_count": 24,
   "id": "2a6984fa",
   "metadata": {},
   "outputs": [
    {
     "name": "stdout",
     "output_type": "stream",
     "text": [
      "p-valor do qui-quadrado: 1.7208259588256052e-28\n",
      "Cramér's V: 0.31253315355294775\n"
     ]
    }
   ],
   "source": [
    "#Calculando a relacao de Class com Survival atraves do Cramer´s V\n",
    "\n",
    "class_qui = pd.crosstab(titanic['Survival'], titanic['Class'])\n",
    "chi2, p_valor, df, freq_esperada = stats.chi2_contingency(class_qui)\n",
    "print(f'p-valor do qui-quadrado: {p_valor}')\n",
    "\n",
    "#calculando Cramer's V conforme a fórmula\n",
    "n =  titanic.shape[0]\n",
    "min_dim = min(class_qui.shape) - 1\n",
    "cramers_v = np.sqrt(chi2 / (n * min_dim))\n",
    "print(f'Cramér\\'s V: {cramers_v}')"
   ]
  },
  {
   "cell_type": "markdown",
   "id": "d587bca1",
   "metadata": {},
   "source": [
    "* <code style=\"color:purple\">Variável Class - resumo</code>\n",
    "\n",
    "Notamos que é uma variável que pode ser muito útil visto que existem diferenças bizarras entre 0 e 1´s em cada uma das classes.   \n",
    "A correlação com y é de 0,3125\n",
    "\n",
    "* <code style=\"color:purple\">Variável Gender</code>"
   ]
  },
  {
   "cell_type": "code",
   "execution_count": 25,
   "id": "3a39117f",
   "metadata": {},
   "outputs": [
    {
     "data": {
      "text/plain": [
       "<AxesSubplot:xlabel='Gender', ylabel='count'>"
      ]
     },
     "execution_count": 25,
     "metadata": {},
     "output_type": "execute_result"
    },
    {
     "data": {
      "image/png": "[encoded data removed]",
      "text/plain": [
       "<Figure size 640x480 with 1 Axes>"
      ]
     },
     "metadata": {},
     "output_type": "display_data"
    }
   ],
   "source": [
    "#Para a variavel Gender\n",
    "sns.countplot(data=titanic, x='Gender', hue='Survival', dodge=True)"
   ]
  },
  {
   "cell_type": "markdown",
   "id": "86b366ec",
   "metadata": {},
   "source": [
    "### <code style=\"color:purple\">COMENTÁRIOS:</code>\n",
    "\n",
    "- Perceba que os homens tem a maior frequência de não sobreviventes!\n",
    "- Existe inversão de barras conforme Gender, o que demonstra que essa variável pode ser muito interessante\n",
    "- Vamos calcular o qui-quadrado e Cramer´s V"
   ]
  },
  {
   "cell_type": "code",
   "execution_count": 26,
   "id": "d2054cae",
   "metadata": {},
   "outputs": [
    {
     "name": "stdout",
     "output_type": "stream",
     "text": [
      "p-valor teste qui-quadrado: 4.589924936952945e-81\n",
      "Cramér's V: 0.5270512029599221\n"
     ]
    }
   ],
   "source": [
    "#Calculando a relacao de Gender com Survival atraves do Cramer´s V\n",
    "class_qui = pd.crosstab(titanic['Survival'], titanic['Gender'])\n",
    "chi2, p_valor, df, freq_esperada = stats.chi2_contingency(class_qui)\n",
    "print(f'p-valor teste qui-quadrado: {p_valor}')\n",
    "\n",
    "#calculando Cramer's V conforme a fórmula\n",
    "n =  titanic.shape[0]\n",
    "min_dim = min(class_qui.shape) - 1\n",
    "cramers_v = np.sqrt(chi2 / (n * min_dim))\n",
    "print(f'Cramér\\'s V: {cramers_v}')"
   ]
  },
  {
   "cell_type": "markdown",
   "id": "e983dd31",
   "metadata": {},
   "source": [
    "* <code style=\"color:purple\">Variável Gender - resumo</code>\n",
    "\n",
    "Notamos que é uma variável que pode ser até mais útil visto que existem diferenças bizarras entre 0 e 1´s em cada uma das classes.   \n",
    "A correlação com y é de 0,5270\n",
    "\n",
    "* <code style=\"color:purple\">Variável Idade (Age_C)</code>"
   ]
  },
  {
   "cell_type": "code",
   "execution_count": 27,
   "id": "bf200398",
   "metadata": {},
   "outputs": [
    {
     "data": {
      "text/plain": [
       "<AxesSubplot:xlabel='Age_C', ylabel='count'>"
      ]
     },
     "execution_count": 27,
     "metadata": {},
     "output_type": "execute_result"
    },
    {
     "data": {
      "image/png": "[encoded data removed]",
      "text/plain": [
       "<Figure size 640x480 with 1 Axes>"
      ]
     },
     "metadata": {},
     "output_type": "display_data"
    }
   ],
   "source": [
    "#Para a variavel Age_C\n",
    "sns.countplot(data=titanic, x='Age_C', hue='Survival', dodge=True)"
   ]
  },
  {
   "cell_type": "markdown",
   "id": "9b2e670d",
   "metadata": {},
   "source": [
    "### <code style=\"color:purple\">COMENTÁRIOS:</code>\n",
    "\n",
    "- Perceba que os tripulantes que tem idade maior que 16 anos possuem uma frequência maior de morte!\n",
    "- Existe inversão de barras conforme Age_C, o que demonstra que essa variável pode ser muito interessante (menos que as duas anteriores)\n",
    "- Vamos calcular o qui-quadrado e Cramer´s V"
   ]
  },
  {
   "cell_type": "code",
   "execution_count": 28,
   "id": "40240228",
   "metadata": {},
   "outputs": [
    {
     "name": "stdout",
     "output_type": "stream",
     "text": [
      "p-valor teste qui-quadrado: 2.4930462874309627e-06\n",
      "Cramér's V: 0.14040215723051205\n"
     ]
    }
   ],
   "source": [
    "#Calculando a relacao de Gender com Survival atraves do Cramer´s V\n",
    "class_qui = pd.crosstab(titanic['Survival'], titanic['Age_C'])\n",
    "chi2, p_valor, df, freq_esperada = stats.chi2_contingency(class_qui)\n",
    "print(f'p-valor teste qui-quadrado: {p_valor}')\n",
    "\n",
    "#calculando Cramer's V conforme a fórmula\n",
    "n =  titanic.shape[0]\n",
    "min_dim = min(class_qui.shape) - 1\n",
    "cramers_v = np.sqrt(chi2 / (n * min_dim))\n",
    "print(f'Cramér\\'s V: {cramers_v}')"
   ]
  },
  {
   "cell_type": "markdown",
   "id": "ce234c96",
   "metadata": {},
   "source": [
    "* <code style=\"color:purple\">Variável Idade - resumo</code>\n",
    "\n",
    "Notamos que é uma variável pouco útil visto que não existem diferenças bizarras entre 0 e 1´s em cada uma das classes.   \n",
    "A correlação com y é de 0,1404 (repare que é a mais baixa)\n",
    "\n",
    "<code style=\"color:purple\">Voltando à análise:</code>\n",
    "\n",
    "<code style=\"color:purple\">Atualizando o dicionário de dados:</code>\n",
    "\n",
    "| Variável  | Descrição   | Comentários   |\n",
    "| :------- | :-------- | :-------- |\n",
    "| Name   | Nome do Passageiro    |  |\n",
    "| Idade   | Faixa de Idade | São 3 grupos com taxas de respostas bem diferentes entre si. Mas os comportamentos em y são muito parecidos entre as classes.| \n",
    "| Gender   | Sexo do passageiro | Variável com 2 classes. O comportamento em y é muito diferente por classe, sendo então a mais relacionada com y | \n",
    "| Class   | Classe no Navio | Variável com 3 classes. E comportamento em y difere, é útil|\n",
    "| Fare | Valor da passagem | não vou usar visto a relação com Class |\n",
    "| Survival | Marcação de quem sobreviveu (1) e quem não (0) | Não tem missing. Transformei em categórica. 61,80 % de mortes (0) e 38,20% de sobreviventes (1) |\n",
    "\n",
    "\n",
    "<code style=\"color:purple\">Voltando à análise:</code>\n",
    "\n",
    "Agora temos as definições que nos importam.   \n",
    "Y bem definido e X criadas: Idade, Gender e Class\n",
    "\n",
    "Como são 3 variáveis categóricas, precisamos criar as dummies"
   ]
  },
  {
   "cell_type": "code",
   "execution_count": 30,
   "id": "9c98bd78",
   "metadata": {},
   "outputs": [
    {
     "data": {
      "text/html": [
       "<div>\n",
       "<style scoped>\n",
       "    .dataframe tbody tr th:only-of-type {\n",
       "        vertical-align: middle;\n",
       "    }\n",
       "\n",
       "    .dataframe tbody tr th {\n",
       "        vertical-align: top;\n",
       "    }\n",
       "\n",
       "    .dataframe thead th {\n",
       "        text-align: right;\n",
       "    }\n",
       "</style>\n",
       "<table border=\"1\" class=\"dataframe\">\n",
       "  <thead>\n",
       "    <tr style=\"text-align: right;\">\n",
       "      <th></th>\n",
       "      <th>name</th>\n",
       "      <th>survival</th>\n",
       "      <th>gender_female</th>\n",
       "      <th>gender_male</th>\n",
       "      <th>class_1</th>\n",
       "      <th>class_2</th>\n",
       "      <th>class_3</th>\n",
       "      <th>maior_16</th>\n",
       "      <th>menor_16</th>\n",
       "      <th>sem_idade</th>\n",
       "    </tr>\n",
       "  </thead>\n",
       "  <tbody>\n",
       "    <tr>\n",
       "      <th>0</th>\n",
       "      <td>Allen, Miss. Elisabeth Walton</td>\n",
       "      <td>1.0</td>\n",
       "      <td>1</td>\n",
       "      <td>0</td>\n",
       "      <td>1</td>\n",
       "      <td>0</td>\n",
       "      <td>0</td>\n",
       "      <td>1</td>\n",
       "      <td>0</td>\n",
       "      <td>0</td>\n",
       "    </tr>\n",
       "    <tr>\n",
       "      <th>1</th>\n",
       "      <td>Allison, Master. Hudson Trevor</td>\n",
       "      <td>1.0</td>\n",
       "      <td>0</td>\n",
       "      <td>1</td>\n",
       "      <td>1</td>\n",
       "      <td>0</td>\n",
       "      <td>0</td>\n",
       "      <td>0</td>\n",
       "      <td>1</td>\n",
       "      <td>0</td>\n",
       "    </tr>\n",
       "    <tr>\n",
       "      <th>2</th>\n",
       "      <td>Allison, Miss. Helen Loraine</td>\n",
       "      <td>0.0</td>\n",
       "      <td>1</td>\n",
       "      <td>0</td>\n",
       "      <td>1</td>\n",
       "      <td>0</td>\n",
       "      <td>0</td>\n",
       "      <td>0</td>\n",
       "      <td>1</td>\n",
       "      <td>0</td>\n",
       "    </tr>\n",
       "    <tr>\n",
       "      <th>3</th>\n",
       "      <td>Allison, Mr. Hudson Joshua Creighton</td>\n",
       "      <td>0.0</td>\n",
       "      <td>0</td>\n",
       "      <td>1</td>\n",
       "      <td>1</td>\n",
       "      <td>0</td>\n",
       "      <td>0</td>\n",
       "      <td>1</td>\n",
       "      <td>0</td>\n",
       "      <td>0</td>\n",
       "    </tr>\n",
       "    <tr>\n",
       "      <th>4</th>\n",
       "      <td>Allison, Mrs. Hudson J C (Bessie Waldo Daniels)</td>\n",
       "      <td>0.0</td>\n",
       "      <td>1</td>\n",
       "      <td>0</td>\n",
       "      <td>1</td>\n",
       "      <td>0</td>\n",
       "      <td>0</td>\n",
       "      <td>1</td>\n",
       "      <td>0</td>\n",
       "      <td>0</td>\n",
       "    </tr>\n",
       "    <tr>\n",
       "      <th>...</th>\n",
       "      <td>...</td>\n",
       "      <td>...</td>\n",
       "      <td>...</td>\n",
       "      <td>...</td>\n",
       "      <td>...</td>\n",
       "      <td>...</td>\n",
       "      <td>...</td>\n",
       "      <td>...</td>\n",
       "      <td>...</td>\n",
       "      <td>...</td>\n",
       "    </tr>\n",
       "    <tr>\n",
       "      <th>1304</th>\n",
       "      <td>Zabour, Miss. Hileni</td>\n",
       "      <td>0.0</td>\n",
       "      <td>1</td>\n",
       "      <td>0</td>\n",
       "      <td>0</td>\n",
       "      <td>0</td>\n",
       "      <td>1</td>\n",
       "      <td>0</td>\n",
       "      <td>1</td>\n",
       "      <td>0</td>\n",
       "    </tr>\n",
       "    <tr>\n",
       "      <th>1305</th>\n",
       "      <td>Zabour, Miss. Thamine</td>\n",
       "      <td>0.0</td>\n",
       "      <td>1</td>\n",
       "      <td>0</td>\n",
       "      <td>0</td>\n",
       "      <td>0</td>\n",
       "      <td>1</td>\n",
       "      <td>0</td>\n",
       "      <td>0</td>\n",
       "      <td>1</td>\n",
       "    </tr>\n",
       "    <tr>\n",
       "      <th>1306</th>\n",
       "      <td>Zakarian, Mr. Mapriededer</td>\n",
       "      <td>0.0</td>\n",
       "      <td>0</td>\n",
       "      <td>1</td>\n",
       "      <td>0</td>\n",
       "      <td>0</td>\n",
       "      <td>1</td>\n",
       "      <td>1</td>\n",
       "      <td>0</td>\n",
       "      <td>0</td>\n",
       "    </tr>\n",
       "    <tr>\n",
       "      <th>1307</th>\n",
       "      <td>Zakarian, Mr. Ortin</td>\n",
       "      <td>0.0</td>\n",
       "      <td>0</td>\n",
       "      <td>1</td>\n",
       "      <td>0</td>\n",
       "      <td>0</td>\n",
       "      <td>1</td>\n",
       "      <td>1</td>\n",
       "      <td>0</td>\n",
       "      <td>0</td>\n",
       "    </tr>\n",
       "    <tr>\n",
       "      <th>1308</th>\n",
       "      <td>Zimmerman, Mr. Leo</td>\n",
       "      <td>0.0</td>\n",
       "      <td>0</td>\n",
       "      <td>1</td>\n",
       "      <td>0</td>\n",
       "      <td>0</td>\n",
       "      <td>1</td>\n",
       "      <td>1</td>\n",
       "      <td>0</td>\n",
       "      <td>0</td>\n",
       "    </tr>\n",
       "  </tbody>\n",
       "</table>\n",
       "<p>1309 rows × 10 columns</p>\n",
       "</div>"
      ],
      "text/plain": [
       "                                                 name  survival  \\\n",
       "0                       Allen, Miss. Elisabeth Walton       1.0   \n",
       "1                      Allison, Master. Hudson Trevor       1.0   \n",
       "2                        Allison, Miss. Helen Loraine       0.0   \n",
       "3                Allison, Mr. Hudson Joshua Creighton       0.0   \n",
       "4     Allison, Mrs. Hudson J C (Bessie Waldo Daniels)       0.0   \n",
       "...                                               ...       ...   \n",
       "1304                             Zabour, Miss. Hileni       0.0   \n",
       "1305                            Zabour, Miss. Thamine       0.0   \n",
       "1306                        Zakarian, Mr. Mapriededer       0.0   \n",
       "1307                              Zakarian, Mr. Ortin       0.0   \n",
       "1308                               Zimmerman, Mr. Leo       0.0   \n",
       "\n",
       "      gender_female  gender_male  class_1  class_2  class_3  maior_16  \\\n",
       "0                 1            0        1        0        0         1   \n",
       "1                 0            1        1        0        0         0   \n",
       "2                 1            0        1        0        0         0   \n",
       "3                 0            1        1        0        0         1   \n",
       "4                 1            0        1        0        0         1   \n",
       "...             ...          ...      ...      ...      ...       ...   \n",
       "1304              1            0        0        0        1         0   \n",
       "1305              1            0        0        0        1         0   \n",
       "1306              0            1        0        0        1         1   \n",
       "1307              0            1        0        0        1         1   \n",
       "1308              0            1        0        0        1         1   \n",
       "\n",
       "      menor_16  sem_idade  \n",
       "0            0          0  \n",
       "1            1          0  \n",
       "2            1          0  \n",
       "3            0          0  \n",
       "4            0          0  \n",
       "...        ...        ...  \n",
       "1304         1          0  \n",
       "1305         0          1  \n",
       "1306         0          0  \n",
       "1307         0          0  \n",
       "1308         0          0  \n",
       "\n",
       "[1309 rows x 10 columns]"
      ]
     },
     "execution_count": 30,
     "metadata": {},
     "output_type": "execute_result"
    }
   ],
   "source": [
    "titanic_modelo = titanic[['Name', 'Gender', 'Class', 'Age_C', 'Survival']]\n",
    "titanic_modelo = pd.get_dummies(titanic_modelo, prefix='dummie_', columns=['Gender', 'Class', 'Age_C'], dtype=np.int64)\n",
    "titanic_modelo.columns=['name', 'survival', 'gender_female', 'gender_male', 'class_1',\n",
    "             'class_2', 'class_3', 'maior_16', 'menor_16', 'sem_idade']\n",
    "titanic_modelo"
   ]
  },
  {
   "cell_type": "markdown",
   "id": "84f5479a",
   "metadata": {},
   "source": [
    "### <code style=\"color:green\">Criando o Modelo</code>\n",
    "\n",
    "- Vamos criar o modelo com todas as variaveis já tratas (claro, que tirando sempre uma das dummies, visto que criamos todas)"
   ]
  },
  {
   "cell_type": "code",
   "execution_count": 31,
   "id": "d2f6b73b",
   "metadata": {},
   "outputs": [
    {
     "name": "stdout",
     "output_type": "stream",
     "text": [
      "                 Generalized Linear Model Regression Results                  \n",
      "==============================================================================\n",
      "Dep. Variable:               survival   No. Observations:                 1309\n",
      "Model:                            GLM   Df Residuals:                     1303\n",
      "Model Family:                Binomial   Df Model:                            5\n",
      "Link Function:                  Logit   Scale:                          1.0000\n",
      "Method:                          IRLS   Log-Likelihood:                -619.12\n",
      "Date:                Thu, 23 Jan 2025   Deviance:                       1238.2\n",
      "Time:                        11:43:28   Pearson chi2:                 1.36e+03\n",
      "No. Iterations:                     5   Pseudo R-squ. (CS):             0.3189\n",
      "Covariance Type:            nonrobust                                         \n",
      "=================================================================================\n",
      "                    coef    std err          z      P>|z|      [0.025      0.975]\n",
      "---------------------------------------------------------------------------------\n",
      "const            -2.3156      0.185    -12.508      0.000      -2.678      -1.953\n",
      "gender_female     2.4956      0.148     16.859      0.000       2.205       2.786\n",
      "class_1           1.8404      0.180     10.247      0.000       1.488       2.192\n",
      "class_2           0.8866      0.186      4.758      0.000       0.521       1.252\n",
      "maior_16          0.0430      0.191      0.224      0.822      -0.332       0.418\n",
      "menor_16          0.9688      0.257      3.768      0.000       0.465       1.473\n",
      "=================================================================================\n"
     ]
    }
   ],
   "source": [
    "#determinando minha matriz de variáveis X\n",
    "X = titanic_modelo.drop(['name','gender_male','class_3','sem_idade','survival'],axis = 1)\n",
    "#determinando meu Y\n",
    "y = titanic_modelo['survival']\n",
    "\n",
    "# Adicionar uma constante ao modelo\n",
    "X = sm.add_constant(X)\n",
    "\n",
    "model_titanic = sm.GLM(y, X, family=sm.families.Binomial()).fit()\n",
    "print(model_titanic.summary())"
   ]
  },
  {
   "cell_type": "code",
   "execution_count": 32,
   "id": "fa94bad6",
   "metadata": {},
   "outputs": [
    {
     "data": {
      "text/plain": [
       "const             0.098706\n",
       "gender_female    12.128900\n",
       "class_1           6.299293\n",
       "class_2           2.426981\n",
       "maior_16          1.043891\n",
       "menor_16          2.634908\n",
       "dtype: float64"
      ]
     },
     "execution_count": 32,
     "metadata": {},
     "output_type": "execute_result"
    }
   ],
   "source": [
    "#Calculando a exponencial do parâmetro (Odds ration)\n",
    "np.exp(model_titanic.params)"
   ]
  },
  {
   "cell_type": "markdown",
   "id": "2c78d4ea",
   "metadata": {},
   "source": [
    "### <code style=\"color:purple\">COMENTÁRIOS:</code>\n",
    "\n",
    "- Repare que Maior_16 deu não significativo, o que quer dizer que, na presença de todas essas variáveis, Age_C no nível Maior_16 pode ser agrupado com Sem_idade, pois acabam com o mesmo comportamento!\n",
    "\n",
    "### <code style=\"color:green\">Modelo com método de seleção de variáveis</code>"
   ]
  },
  {
   "cell_type": "code",
   "execution_count": 33,
   "id": "39400dcd",
   "metadata": {},
   "outputs": [
    {
     "name": "stdout",
     "output_type": "stream",
     "text": [
      "                 Generalized Linear Model Regression Results                  \n",
      "==============================================================================\n",
      "Dep. Variable:               survival   No. Observations:                 1309\n",
      "Model:                            GLM   Df Residuals:                     1304\n",
      "Model Family:                Binomial   Df Model:                            4\n",
      "Link Function:                  Logit   Scale:                          1.0000\n",
      "Method:                          IRLS   Log-Likelihood:                -619.14\n",
      "Date:                Thu, 23 Jan 2025   Deviance:                       1238.3\n",
      "Time:                        11:46:03   Pearson chi2:                 1.36e+03\n",
      "No. Iterations:                     5   Pseudo R-squ. (CS):             0.3189\n",
      "Covariance Type:            nonrobust                                         \n",
      "=================================================================================\n",
      "                    coef    std err          z      P>|z|      [0.025      0.975]\n",
      "---------------------------------------------------------------------------------\n",
      "const            -2.2874      0.135    -16.898      0.000      -2.553      -2.022\n",
      "menor_16          0.9375      0.216      4.341      0.000       0.514       1.361\n",
      "gender_female     2.4959      0.148     16.863      0.000       2.206       2.786\n",
      "class_1           1.8488      0.176     10.517      0.000       1.504       2.193\n",
      "class_2           0.8975      0.180      4.984      0.000       0.545       1.250\n",
      "=================================================================================\n"
     ]
    }
   ],
   "source": [
    "# Fazendo a seleção das variáveis (utilizando as funções disponibilizadas no início do código)\n",
    "\n",
    "#determinando minha matriz de variáveis X\n",
    "X = titanic_modelo.drop(['name','gender_male','class_3','sem_idade','survival'],axis = 1)\n",
    "#determinando meu Y\n",
    "y = titanic_modelo['survival']\n",
    "\n",
    "colunas_model_step = step(var_dependente = 'survival', var_independente = X.columns.to_list(), base = titanic_modelo, metodo = 'both' ,metrica = 'aic')\n",
    "\n",
    "X_model_step= titanic_modelo [ colunas_model_step['var'].to_list()[0]]\n",
    "\n",
    "X_model_step = sm.add_constant(X_model_step)\n",
    "\n",
    "model_step = sm.GLM(y, X_model_step,family=sm.families.Binomial()).fit()\n",
    "\n",
    "print(model_step.summary()) \n",
    "\n",
    "pred_model_step = model_step.predict(X_model_step)"
   ]
  },
  {
   "cell_type": "code",
   "execution_count": 34,
   "id": "282dbf2d",
   "metadata": {},
   "outputs": [
    {
     "data": {
      "text/plain": [
       "const             0.101532\n",
       "menor_16          2.553711\n",
       "gender_female    12.132714\n",
       "class_1           6.352052\n",
       "class_2           2.453451\n",
       "dtype: float64"
      ]
     },
     "execution_count": 34,
     "metadata": {},
     "output_type": "execute_result"
    }
   ],
   "source": [
    "#Calculando a exponencial do parametro depois da selecao\n",
    "np.exp(model_step.params)"
   ]
  },
  {
   "cell_type": "markdown",
   "id": "b99e47ea",
   "metadata": {},
   "source": [
    "### <code style=\"color:red\">Para praticar:</code>\n",
    "\n",
    "Agora é a sua vez!! \n",
    "\n",
    "Vamos analisar e interpretar as Odds Ratios e calcular as métricas de qualidade de ajuste do nosso modelo. Para isso, realizaremos os seguintes cálculos:\n",
    "\n",
    "1. **Mean Squared Error (MSE)**\n",
    "\n",
    "2. **Precision / Recall no corte 0,5**\n",
    "\n",
    "3. **Lift nos primeiros 10%**\n",
    "\n",
    "4. **Curva ROC e AUC**"
   ]
  },
  {
   "cell_type": "code",
   "execution_count": 35,
   "id": "1b548b90",
   "metadata": {},
   "outputs": [
    {
     "data": {
      "text/html": [
       "<div>\n",
       "<style scoped>\n",
       "    .dataframe tbody tr th:only-of-type {\n",
       "        vertical-align: middle;\n",
       "    }\n",
       "\n",
       "    .dataframe tbody tr th {\n",
       "        vertical-align: top;\n",
       "    }\n",
       "\n",
       "    .dataframe thead th {\n",
       "        text-align: right;\n",
       "    }\n",
       "</style>\n",
       "<table border=\"1\" class=\"dataframe\">\n",
       "  <thead>\n",
       "    <tr style=\"text-align: right;\">\n",
       "      <th></th>\n",
       "      <th>name</th>\n",
       "      <th>survival</th>\n",
       "      <th>y_chapeu</th>\n",
       "    </tr>\n",
       "  </thead>\n",
       "  <tbody>\n",
       "    <tr>\n",
       "      <th>0</th>\n",
       "      <td>Allen, Miss. Elisabeth Walton</td>\n",
       "      <td>1.0</td>\n",
       "      <td>0.886684</td>\n",
       "    </tr>\n",
       "    <tr>\n",
       "      <th>1</th>\n",
       "      <td>Allison, Master. Hudson Trevor</td>\n",
       "      <td>1.0</td>\n",
       "      <td>0.622212</td>\n",
       "    </tr>\n",
       "    <tr>\n",
       "      <th>2</th>\n",
       "      <td>Allison, Miss. Helen Loraine</td>\n",
       "      <td>0.0</td>\n",
       "      <td>0.952341</td>\n",
       "    </tr>\n",
       "    <tr>\n",
       "      <th>3</th>\n",
       "      <td>Allison, Mr. Hudson Joshua Creighton</td>\n",
       "      <td>0.0</td>\n",
       "      <td>0.392074</td>\n",
       "    </tr>\n",
       "    <tr>\n",
       "      <th>4</th>\n",
       "      <td>Allison, Mrs. Hudson J C (Bessie Waldo Daniels)</td>\n",
       "      <td>0.0</td>\n",
       "      <td>0.886684</td>\n",
       "    </tr>\n",
       "    <tr>\n",
       "      <th>...</th>\n",
       "      <td>...</td>\n",
       "      <td>...</td>\n",
       "      <td>...</td>\n",
       "    </tr>\n",
       "    <tr>\n",
       "      <th>1304</th>\n",
       "      <td>Zabour, Miss. Hileni</td>\n",
       "      <td>0.0</td>\n",
       "      <td>0.758793</td>\n",
       "    </tr>\n",
       "    <tr>\n",
       "      <th>1305</th>\n",
       "      <td>Zabour, Miss. Thamine</td>\n",
       "      <td>0.0</td>\n",
       "      <td>0.551944</td>\n",
       "    </tr>\n",
       "    <tr>\n",
       "      <th>1306</th>\n",
       "      <td>Zakarian, Mr. Mapriededer</td>\n",
       "      <td>0.0</td>\n",
       "      <td>0.092174</td>\n",
       "    </tr>\n",
       "    <tr>\n",
       "      <th>1307</th>\n",
       "      <td>Zakarian, Mr. Ortin</td>\n",
       "      <td>0.0</td>\n",
       "      <td>0.092174</td>\n",
       "    </tr>\n",
       "    <tr>\n",
       "      <th>1308</th>\n",
       "      <td>Zimmerman, Mr. Leo</td>\n",
       "      <td>0.0</td>\n",
       "      <td>0.092174</td>\n",
       "    </tr>\n",
       "  </tbody>\n",
       "</table>\n",
       "<p>1309 rows × 3 columns</p>\n",
       "</div>"
      ],
      "text/plain": [
       "                                                 name  survival  y_chapeu\n",
       "0                       Allen, Miss. Elisabeth Walton       1.0  0.886684\n",
       "1                      Allison, Master. Hudson Trevor       1.0  0.622212\n",
       "2                        Allison, Miss. Helen Loraine       0.0  0.952341\n",
       "3                Allison, Mr. Hudson Joshua Creighton       0.0  0.392074\n",
       "4     Allison, Mrs. Hudson J C (Bessie Waldo Daniels)       0.0  0.886684\n",
       "...                                               ...       ...       ...\n",
       "1304                             Zabour, Miss. Hileni       0.0  0.758793\n",
       "1305                            Zabour, Miss. Thamine       0.0  0.551944\n",
       "1306                        Zakarian, Mr. Mapriededer       0.0  0.092174\n",
       "1307                              Zakarian, Mr. Ortin       0.0  0.092174\n",
       "1308                               Zimmerman, Mr. Leo       0.0  0.092174\n",
       "\n",
       "[1309 rows x 3 columns]"
      ]
     },
     "execution_count": 35,
     "metadata": {},
     "output_type": "execute_result"
    }
   ],
   "source": [
    "#criando uma nova base para calcular as métricas\n",
    "titanic_metricas = titanic_modelo.copy()\n",
    "\n",
    "#Coluna 'y_chapeu' sao as previsões do modelo\n",
    "titanic_metricas['y_chapeu'] =pred_model_step\n",
    "\n",
    "titanic_metricas = titanic_metricas[['name','survival','y_chapeu']]\n",
    "titanic_metricas"
   ]
  },
  {
   "cell_type": "code",
   "execution_count": 36,
   "id": "3783911f",
   "metadata": {},
   "outputs": [
    {
     "data": {
      "text/html": [
       "<div>\n",
       "<style scoped>\n",
       "    .dataframe tbody tr th:only-of-type {\n",
       "        vertical-align: middle;\n",
       "    }\n",
       "\n",
       "    .dataframe tbody tr th {\n",
       "        vertical-align: top;\n",
       "    }\n",
       "\n",
       "    .dataframe thead th {\n",
       "        text-align: right;\n",
       "    }\n",
       "</style>\n",
       "<table border=\"1\" class=\"dataframe\">\n",
       "  <thead>\n",
       "    <tr style=\"text-align: right;\">\n",
       "      <th></th>\n",
       "      <th>name</th>\n",
       "      <th>survival</th>\n",
       "      <th>y_chapeu</th>\n",
       "      <th>decisao_05</th>\n",
       "    </tr>\n",
       "  </thead>\n",
       "  <tbody>\n",
       "    <tr>\n",
       "      <th>0</th>\n",
       "      <td>Allen, Miss. Elisabeth Walton</td>\n",
       "      <td>1.0</td>\n",
       "      <td>0.886684</td>\n",
       "      <td>1.0</td>\n",
       "    </tr>\n",
       "    <tr>\n",
       "      <th>1</th>\n",
       "      <td>Allison, Master. Hudson Trevor</td>\n",
       "      <td>1.0</td>\n",
       "      <td>0.622212</td>\n",
       "      <td>1.0</td>\n",
       "    </tr>\n",
       "    <tr>\n",
       "      <th>2</th>\n",
       "      <td>Allison, Miss. Helen Loraine</td>\n",
       "      <td>0.0</td>\n",
       "      <td>0.952341</td>\n",
       "      <td>1.0</td>\n",
       "    </tr>\n",
       "    <tr>\n",
       "      <th>3</th>\n",
       "      <td>Allison, Mr. Hudson Joshua Creighton</td>\n",
       "      <td>0.0</td>\n",
       "      <td>0.392074</td>\n",
       "      <td>0.0</td>\n",
       "    </tr>\n",
       "    <tr>\n",
       "      <th>4</th>\n",
       "      <td>Allison, Mrs. Hudson J C (Bessie Waldo Daniels)</td>\n",
       "      <td>0.0</td>\n",
       "      <td>0.886684</td>\n",
       "      <td>1.0</td>\n",
       "    </tr>\n",
       "    <tr>\n",
       "      <th>...</th>\n",
       "      <td>...</td>\n",
       "      <td>...</td>\n",
       "      <td>...</td>\n",
       "      <td>...</td>\n",
       "    </tr>\n",
       "    <tr>\n",
       "      <th>1304</th>\n",
       "      <td>Zabour, Miss. Hileni</td>\n",
       "      <td>0.0</td>\n",
       "      <td>0.758793</td>\n",
       "      <td>1.0</td>\n",
       "    </tr>\n",
       "    <tr>\n",
       "      <th>1305</th>\n",
       "      <td>Zabour, Miss. Thamine</td>\n",
       "      <td>0.0</td>\n",
       "      <td>0.551944</td>\n",
       "      <td>1.0</td>\n",
       "    </tr>\n",
       "    <tr>\n",
       "      <th>1306</th>\n",
       "      <td>Zakarian, Mr. Mapriededer</td>\n",
       "      <td>0.0</td>\n",
       "      <td>0.092174</td>\n",
       "      <td>0.0</td>\n",
       "    </tr>\n",
       "    <tr>\n",
       "      <th>1307</th>\n",
       "      <td>Zakarian, Mr. Ortin</td>\n",
       "      <td>0.0</td>\n",
       "      <td>0.092174</td>\n",
       "      <td>0.0</td>\n",
       "    </tr>\n",
       "    <tr>\n",
       "      <th>1308</th>\n",
       "      <td>Zimmerman, Mr. Leo</td>\n",
       "      <td>0.0</td>\n",
       "      <td>0.092174</td>\n",
       "      <td>0.0</td>\n",
       "    </tr>\n",
       "  </tbody>\n",
       "</table>\n",
       "<p>1309 rows × 4 columns</p>\n",
       "</div>"
      ],
      "text/plain": [
       "                                                 name  survival  y_chapeu  \\\n",
       "0                       Allen, Miss. Elisabeth Walton       1.0  0.886684   \n",
       "1                      Allison, Master. Hudson Trevor       1.0  0.622212   \n",
       "2                        Allison, Miss. Helen Loraine       0.0  0.952341   \n",
       "3                Allison, Mr. Hudson Joshua Creighton       0.0  0.392074   \n",
       "4     Allison, Mrs. Hudson J C (Bessie Waldo Daniels)       0.0  0.886684   \n",
       "...                                               ...       ...       ...   \n",
       "1304                             Zabour, Miss. Hileni       0.0  0.758793   \n",
       "1305                            Zabour, Miss. Thamine       0.0  0.551944   \n",
       "1306                        Zakarian, Mr. Mapriededer       0.0  0.092174   \n",
       "1307                              Zakarian, Mr. Ortin       0.0  0.092174   \n",
       "1308                               Zimmerman, Mr. Leo       0.0  0.092174   \n",
       "\n",
       "      decisao_05  \n",
       "0            1.0  \n",
       "1            1.0  \n",
       "2            1.0  \n",
       "3            0.0  \n",
       "4            1.0  \n",
       "...          ...  \n",
       "1304         1.0  \n",
       "1305         1.0  \n",
       "1306         0.0  \n",
       "1307         0.0  \n",
       "1308         0.0  \n",
       "\n",
       "[1309 rows x 4 columns]"
      ]
     },
     "execution_count": 36,
     "metadata": {},
     "output_type": "execute_result"
    }
   ],
   "source": [
    "#criando a regra de decisão\n",
    "titanic_metricas['decisao_05']= np.where(titanic_metricas['y_chapeu'].copy() >= 0.5, 1.0, 0.0)\n",
    "titanic_metricas"
   ]
  },
  {
   "cell_type": "code",
   "execution_count": 37,
   "id": "0b77835e",
   "metadata": {},
   "outputs": [
    {
     "name": "stdout",
     "output_type": "stream",
     "text": [
      "MSE do modelo: 0.150873586634719\n"
     ]
    }
   ],
   "source": [
    "#Calculando o MSE\n",
    "titanic_metricas['MSE'] = (titanic_metricas['survival'] - titanic_metricas['y_chapeu'])**2\n",
    "MSE_modelo = titanic_metricas['MSE'].mean()\n",
    "print(\"MSE do modelo:\", MSE_modelo)\n"
   ]
  },
  {
   "cell_type": "code",
   "execution_count": 38,
   "id": "979c2750",
   "metadata": {},
   "outputs": [
    {
     "name": "stdout",
     "output_type": "stream",
     "text": [
      "RMSE do modelo: 0.3884244928357621\n"
     ]
    }
   ],
   "source": [
    "#Calculando o RMSE\n",
    "RMSE_modelo = np.sqrt(MSE_modelo)\n",
    "print(\"RMSE do modelo:\", RMSE_modelo)"
   ]
  },
  {
   "cell_type": "markdown",
   "id": "2a8b30ff",
   "metadata": {},
   "source": [
    "### <code style=\"color:green\">Calculando o Precision, o Recall, o Lift e a Curva ROC </code>\n",
    "\n",
    "**Precision:** De todo mundo que eu disse que é 1, quantos eu acertei.\n",
    "\n",
    "\\begin{align*}\n",
    "\\text{Precision} = \\frac{\\text{Verdadeiros Positivos (VP)}}{\\text{Verdadeiros Positivos (VP)} + \\text{Falsos Positivos (FP)}}\n",
    "\\end{align*}\n",
    "\n",
    "**Recall:** De todo mundo que é realmente 1, quantos eu peguei.\n",
    "\n",
    "\\begin{align*}\n",
    "\\text{Recall} = \\frac{\\text{Verdadeiros Positivos (VP)}}{\\text{Verdadeiros Positivos (VP)} + \\text{Falsos Negativos (FN)}}\n",
    "\\end{align*}\n",
    "\n",
    "**O Lift:** Mede o quanto é melhor que a seleção aleatória, conforme a ordenação. Ele comporta um conjunto de passos:\n",
    "\n",
    "- Ordenar a base pela resposta do modelo em ordem decrescente.\n",
    "\n",
    "- Dividir a base de 10 em 10%.\n",
    "\n",
    "- Calcula a taxa de resposta para cada percentil ordenado.\n",
    "\n",
    "- Calcular a média da base de dados geral.\n",
    "\n",
    "- Calcular a razão entre a média de cada percentil sobre a média geral.\n",
    "\n",
    "**Curva ROC**: Representa graficamente a relação entre a taxa de verdadeiros positivos (TPR ou sensibilidade/Recall) e a taxa de falsos positivos (FPR) para diferentes valores de limiar de decisão. Nas palavras que usamos no curso, estamos visualizando no eixo x os 0's de todos os 0's e no eixo y os 1's de todos os 1's.\n",
    "\n",
    "\n",
    "\n"
   ]
  },
  {
   "cell_type": "code",
   "execution_count": 39,
   "id": "37314d95",
   "metadata": {},
   "outputs": [
    {
     "data": {
      "text/html": [
       "<div>\n",
       "<style scoped>\n",
       "    .dataframe tbody tr th:only-of-type {\n",
       "        vertical-align: middle;\n",
       "    }\n",
       "\n",
       "    .dataframe tbody tr th {\n",
       "        vertical-align: top;\n",
       "    }\n",
       "\n",
       "    .dataframe thead th {\n",
       "        text-align: right;\n",
       "    }\n",
       "</style>\n",
       "<table border=\"1\" class=\"dataframe\">\n",
       "  <thead>\n",
       "    <tr style=\"text-align: right;\">\n",
       "      <th>decisao_05</th>\n",
       "      <th>0.0</th>\n",
       "      <th>1.0</th>\n",
       "    </tr>\n",
       "    <tr>\n",
       "      <th>survival</th>\n",
       "      <th></th>\n",
       "      <th></th>\n",
       "    </tr>\n",
       "  </thead>\n",
       "  <tbody>\n",
       "    <tr>\n",
       "      <th>0.0</th>\n",
       "      <td>681</td>\n",
       "      <td>128</td>\n",
       "    </tr>\n",
       "    <tr>\n",
       "      <th>1.0</th>\n",
       "      <td>155</td>\n",
       "      <td>345</td>\n",
       "    </tr>\n",
       "  </tbody>\n",
       "</table>\n",
       "</div>"
      ],
      "text/plain": [
       "decisao_05  0.0  1.0\n",
       "survival            \n",
       "0.0         681  128\n",
       "1.0         155  345"
      ]
     },
     "execution_count": 39,
     "metadata": {},
     "output_type": "execute_result"
    }
   ],
   "source": [
    "#matriz de confusão manualmente\n",
    "conf = pd.crosstab(titanic_metricas['survival'], titanic_metricas['decisao_05'])\n",
    "conf"
   ]
  },
  {
   "cell_type": "code",
   "execution_count": 40,
   "id": "9baf101a",
   "metadata": {},
   "outputs": [
    {
     "data": {
      "text/plain": [
       "809"
      ]
     },
     "execution_count": 40,
     "metadata": {},
     "output_type": "execute_result"
    }
   ],
   "source": [
    "# veja como funciona a soma da primeira linha (tudo que era 0 de verdade)\n",
    "conf.iloc[0].sum()"
   ]
  },
  {
   "cell_type": "code",
   "execution_count": 41,
   "id": "843ef97d",
   "metadata": {},
   "outputs": [
    {
     "name": "stdout",
     "output_type": "stream",
     "text": [
      "Precisão no corte 0.5: 0.7293868921775899\n"
     ]
    }
   ],
   "source": [
    "#Calculando a precisão\n",
    "#Precision: de todos que estou dizendo que sao 1, quantos acertei\n",
    "\n",
    "precision_05 = conf.iloc[1,1]/ conf.iloc[:,1].sum()\n",
    "print(\"Precisão no corte 0.5:\", precision_05)\n"
   ]
  },
  {
   "cell_type": "code",
   "execution_count": 42,
   "id": "1fca2395",
   "metadata": {},
   "outputs": [
    {
     "name": "stdout",
     "output_type": "stream",
     "text": [
      "Precisão no corte 0.5: 0.69\n"
     ]
    }
   ],
   "source": [
    "#Calculando o recall\n",
    "#Recall: de todos que sao 1, quantos estou pegando\n",
    "\n",
    "precision_05 = conf.iloc[1,1]/ conf.iloc[1,:].sum()\n",
    "print(\"Precisão no corte 0.5:\", precision_05)"
   ]
  },
  {
   "cell_type": "code",
   "execution_count": 43,
   "id": "26647e75",
   "metadata": {},
   "outputs": [
    {
     "name": "stdout",
     "output_type": "stream",
     "text": [
      "Precisão no corte 0,5: 0.7293868921775899\n",
      "Recall no corte 0,5: 0.69\n"
     ]
    }
   ],
   "source": [
    "# calulando recall e precision de forma automática pela biblioteca\n",
    "precision_05 = sklearn.metrics.precision_score(titanic_metricas.survival, titanic_metricas.decisao_05)\n",
    "print('Precisão no corte 0,5:', precision_05)\n",
    "recall_05 = sklearn.metrics.recall_score(titanic_metricas.survival, titanic_metricas.decisao_05)\n",
    "print('Recall no corte 0,5:', recall_05)"
   ]
  },
  {
   "cell_type": "code",
   "execution_count": 44,
   "id": "3cffd2e7",
   "metadata": {},
   "outputs": [
    {
     "data": {
      "text/html": [
       "<div>\n",
       "<style scoped>\n",
       "    .dataframe tbody tr th:only-of-type {\n",
       "        vertical-align: middle;\n",
       "    }\n",
       "\n",
       "    .dataframe tbody tr th {\n",
       "        vertical-align: top;\n",
       "    }\n",
       "\n",
       "    .dataframe thead th {\n",
       "        text-align: right;\n",
       "    }\n",
       "</style>\n",
       "<table border=\"1\" class=\"dataframe\">\n",
       "  <thead>\n",
       "    <tr style=\"text-align: right;\">\n",
       "      <th></th>\n",
       "      <th>survival</th>\n",
       "      <th>y_chapeu</th>\n",
       "      <th>percentil</th>\n",
       "    </tr>\n",
       "  </thead>\n",
       "  <tbody>\n",
       "    <tr>\n",
       "      <th>0</th>\n",
       "      <td>0.0</td>\n",
       "      <td>0.952341</td>\n",
       "      <td>1</td>\n",
       "    </tr>\n",
       "    <tr>\n",
       "      <th>1</th>\n",
       "      <td>1.0</td>\n",
       "      <td>0.952341</td>\n",
       "      <td>1</td>\n",
       "    </tr>\n",
       "    <tr>\n",
       "      <th>2</th>\n",
       "      <td>1.0</td>\n",
       "      <td>0.952341</td>\n",
       "      <td>1</td>\n",
       "    </tr>\n",
       "    <tr>\n",
       "      <th>3</th>\n",
       "      <td>1.0</td>\n",
       "      <td>0.952341</td>\n",
       "      <td>1</td>\n",
       "    </tr>\n",
       "    <tr>\n",
       "      <th>4</th>\n",
       "      <td>1.0</td>\n",
       "      <td>0.952341</td>\n",
       "      <td>1</td>\n",
       "    </tr>\n",
       "    <tr>\n",
       "      <th>...</th>\n",
       "      <td>...</td>\n",
       "      <td>...</td>\n",
       "      <td>...</td>\n",
       "    </tr>\n",
       "    <tr>\n",
       "      <th>1304</th>\n",
       "      <td>0.0</td>\n",
       "      <td>0.092174</td>\n",
       "      <td>10</td>\n",
       "    </tr>\n",
       "    <tr>\n",
       "      <th>1305</th>\n",
       "      <td>0.0</td>\n",
       "      <td>0.092174</td>\n",
       "      <td>10</td>\n",
       "    </tr>\n",
       "    <tr>\n",
       "      <th>1306</th>\n",
       "      <td>0.0</td>\n",
       "      <td>0.092174</td>\n",
       "      <td>10</td>\n",
       "    </tr>\n",
       "    <tr>\n",
       "      <th>1307</th>\n",
       "      <td>1.0</td>\n",
       "      <td>0.092174</td>\n",
       "      <td>10</td>\n",
       "    </tr>\n",
       "    <tr>\n",
       "      <th>1308</th>\n",
       "      <td>0.0</td>\n",
       "      <td>0.092174</td>\n",
       "      <td>10</td>\n",
       "    </tr>\n",
       "  </tbody>\n",
       "</table>\n",
       "<p>1309 rows × 3 columns</p>\n",
       "</div>"
      ],
      "text/plain": [
       "      survival  y_chapeu percentil\n",
       "0          0.0  0.952341         1\n",
       "1          1.0  0.952341         1\n",
       "2          1.0  0.952341         1\n",
       "3          1.0  0.952341         1\n",
       "4          1.0  0.952341         1\n",
       "...        ...       ...       ...\n",
       "1304       0.0  0.092174        10\n",
       "1305       0.0  0.092174        10\n",
       "1306       0.0  0.092174        10\n",
       "1307       1.0  0.092174        10\n",
       "1308       0.0  0.092174        10\n",
       "\n",
       "[1309 rows x 3 columns]"
      ]
     },
     "execution_count": 44,
     "metadata": {},
     "output_type": "execute_result"
    }
   ],
   "source": [
    "#Lift\n",
    "df_y_chapeu = titanic_metricas[['survival','y_chapeu']].copy().sort_values(by = 'y_chapeu', ascending = False).reset_index(drop=True)\n",
    "df_y_chapeu\n",
    "\n",
    "# Criando a variável de percentil com .cut\n",
    "df_y_chapeu['percentil'] = pd.cut(\n",
    "    df_y_chapeu.index, \n",
    "    bins=10,  # Dividindo em 10 faixas iguais\n",
    "    labels=[str(i) for i in range(1, 11)]\n",
    ")\n",
    "\n",
    "# Exibindo os resultados\n",
    "df_y_chapeu"
   ]
  },
  {
   "cell_type": "code",
   "execution_count": 45,
   "id": "82cd7ae5",
   "metadata": {},
   "outputs": [
    {
     "name": "stderr",
     "output_type": "stream",
     "text": [
      "C:\\Users\\adria\\AppData\\Local\\Temp\\ipykernel_16596\\1951475734.py:3: FutureWarning: The default of observed=False is deprecated and will be changed to True in a future version of pandas. Pass observed=False to retain current behavior or observed=True to adopt the future default and silence this warning.\n",
      "  y_chapeu_sum =df_y_chapeu.groupby('percentil').agg(\n"
     ]
    },
    {
     "data": {
      "text/html": [
       "<div>\n",
       "<style scoped>\n",
       "    .dataframe tbody tr th:only-of-type {\n",
       "        vertical-align: middle;\n",
       "    }\n",
       "\n",
       "    .dataframe tbody tr th {\n",
       "        vertical-align: top;\n",
       "    }\n",
       "\n",
       "    .dataframe thead th {\n",
       "        text-align: right;\n",
       "    }\n",
       "</style>\n",
       "<table border=\"1\" class=\"dataframe\">\n",
       "  <thead>\n",
       "    <tr style=\"text-align: right;\">\n",
       "      <th></th>\n",
       "      <th>media_ychapeu</th>\n",
       "      <th>survival</th>\n",
       "      <th>Lift</th>\n",
       "    </tr>\n",
       "    <tr>\n",
       "      <th>percentil</th>\n",
       "      <th></th>\n",
       "      <th></th>\n",
       "      <th></th>\n",
       "    </tr>\n",
       "  </thead>\n",
       "  <tbody>\n",
       "    <tr>\n",
       "      <th>1</th>\n",
       "      <td>0.890693</td>\n",
       "      <td>0.961832</td>\n",
       "      <td>2.518076</td>\n",
       "    </tr>\n",
       "    <tr>\n",
       "      <th>2</th>\n",
       "      <td>0.785814</td>\n",
       "      <td>0.778626</td>\n",
       "      <td>2.038443</td>\n",
       "    </tr>\n",
       "    <tr>\n",
       "      <th>3</th>\n",
       "      <td>0.607462</td>\n",
       "      <td>0.679389</td>\n",
       "      <td>1.778641</td>\n",
       "    </tr>\n",
       "    <tr>\n",
       "      <th>5</th>\n",
       "      <td>0.391825</td>\n",
       "      <td>0.381679</td>\n",
       "      <td>0.999237</td>\n",
       "    </tr>\n",
       "    <tr>\n",
       "      <th>4</th>\n",
       "      <td>0.489705</td>\n",
       "      <td>0.305344</td>\n",
       "      <td>0.799389</td>\n",
       "    </tr>\n",
       "    <tr>\n",
       "      <th>10</th>\n",
       "      <td>0.092174</td>\n",
       "      <td>0.206107</td>\n",
       "      <td>0.539588</td>\n",
       "    </tr>\n",
       "    <tr>\n",
       "      <th>6</th>\n",
       "      <td>0.209697</td>\n",
       "      <td>0.169231</td>\n",
       "      <td>0.443046</td>\n",
       "    </tr>\n",
       "    <tr>\n",
       "      <th>9</th>\n",
       "      <td>0.092174</td>\n",
       "      <td>0.129771</td>\n",
       "      <td>0.339740</td>\n",
       "    </tr>\n",
       "    <tr>\n",
       "      <th>8</th>\n",
       "      <td>0.092174</td>\n",
       "      <td>0.106870</td>\n",
       "      <td>0.279786</td>\n",
       "    </tr>\n",
       "    <tr>\n",
       "      <th>7</th>\n",
       "      <td>0.166678</td>\n",
       "      <td>0.099237</td>\n",
       "      <td>0.259802</td>\n",
       "    </tr>\n",
       "  </tbody>\n",
       "</table>\n",
       "</div>"
      ],
      "text/plain": [
       "           media_ychapeu  survival      Lift\n",
       "percentil                                   \n",
       "1               0.890693  0.961832  2.518076\n",
       "2               0.785814  0.778626  2.038443\n",
       "3               0.607462  0.679389  1.778641\n",
       "5               0.391825  0.381679  0.999237\n",
       "4               0.489705  0.305344  0.799389\n",
       "10              0.092174  0.206107  0.539588\n",
       "6               0.209697  0.169231  0.443046\n",
       "9               0.092174  0.129771  0.339740\n",
       "8               0.092174  0.106870  0.279786\n",
       "7               0.166678  0.099237  0.259802"
      ]
     },
     "execution_count": 45,
     "metadata": {},
     "output_type": "execute_result"
    }
   ],
   "source": [
    "#Verificando a taxa de resposta em cada percentual (ou seja, por faixa)\n",
    "#Tenha em mente que este não é o Lift acumulado\n",
    "y_chapeu_sum =df_y_chapeu.groupby('percentil').agg(\n",
    "    media_ychapeu = ('y_chapeu','mean'),\n",
    "    survival = ('survival','mean')\n",
    ")\n",
    "y_chapeu_sum\n",
    "#Calculando o lift para cada percentual\n",
    "y_chapeu_sum['Lift'] = y_chapeu_sum['survival']/ titanic_metricas['survival'].mean()\n",
    "y_chapeu_sum.sort_values(by ='Lift', ascending = False)"
   ]
  },
  {
   "cell_type": "code",
   "execution_count": 46,
   "id": "7657b9be",
   "metadata": {},
   "outputs": [
    {
     "data": {
      "image/png": "[encoded data removed]",
      "text/plain": [
       "<Figure size 640x480 with 1 Axes>"
      ]
     },
     "metadata": {},
     "output_type": "display_data"
    }
   ],
   "source": [
    "#Curva ROC\n",
    "fpr, tpr, _ = roc_curve(titanic_metricas['survival'], titanic_metricas['y_chapeu'])\n",
    "area_curva_roc = auc(fpr, tpr)\n",
    "\n",
    "plt.figure()\n",
    "plt.plot(fpr, tpr, color='blue', lw=2)\n",
    "plt.plot([0, 1], [0, 1], color='gray', lw=2, linestyle='--')  # Linha de referência\n",
    "plt.xlim([0.0, 1.0])\n",
    "plt.ylim([0.0, 1.0])\n",
    "plt.xlabel('Specificity')\n",
    "plt.ylabel('Sensitivity')\n",
    "plt.title('Curva ROC')\n",
    "plt.show()"
   ]
  },
  {
   "cell_type": "code",
   "execution_count": 47,
   "id": "dc50c6ea",
   "metadata": {},
   "outputs": [
    {
     "data": {
      "text/plain": [
       "0.8264202719406675"
      ]
     },
     "execution_count": 47,
     "metadata": {},
     "output_type": "execute_result"
    }
   ],
   "source": [
    "# calculando AUC\n",
    "auc = sklearn.metrics.roc_auc_score(titanic_metricas['survival'], titanic_metricas['y_chapeu'])\n",
    "auc"
   ]
  }
 ],
 "metadata": {
  "kernelspec": {
   "display_name": "Python 3 (ipykernel)",
   "language": "python",
   "name": "python3"
  },
  "language_info": {
   "codemirror_mode": {
    "name": "ipython",
    "version": 3
   },
   "file_extension": ".py",
   "mimetype": "text/x-python",
   "name": "python",
   "nbconvert_exporter": "python",
   "pygments_lexer": "ipython3",
   "version": "3.9.13"
  }
 },
 "nbformat": 4,
 "nbformat_minor": 5
}
